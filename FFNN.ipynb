{
  "nbformat": 4,
  "nbformat_minor": 0,
  "metadata": {
    "colab": {
      "name": "IDS.ipynb",
      "provenance": [],
      "collapsed_sections": [],
      "include_colab_link": true
    },
    "kernelspec": {
      "name": "python3",
      "display_name": "Python 3"
    },
    "language_info": {
      "name": "python"
    }
  },
  "cells": [
    {
      "cell_type": "markdown",
      "metadata": {
        "id": "view-in-github",
        "colab_type": "text"
      },
      "source": [
        "<a href=\"https://colab.research.google.com/github/Piyushagg19/IDS-2018/blob/main/FFNN.ipynb\" target=\"_parent\"><img src=\"https://colab.research.google.com/assets/colab-badge.svg\" alt=\"Open In Colab\"/></a>"
      ]
    },
    {
      "cell_type": "markdown",
      "metadata": {
        "id": "vHveTnF7vBef"
      },
      "source": [
        "##**IDS**"
      ]
    },
    {
      "cell_type": "code",
      "metadata": {
        "id": "NLezzTSoMcI8"
      },
      "source": [
        "import tensorflow as tf\n",
        "import pandas as pd\n",
        "import numpy as np\n",
        "import sklearn\n",
        "from keras.models import Sequential, load_model\n",
        "from keras.utils import np_utils\n",
        "from sklearn.model_selection import train_test_split\n",
        "from sklearn.linear_model import LogisticRegression\n",
        "from sklearn import preprocessing\n",
        "from sklearn.preprocessing import LabelEncoder, StandardScaler\n",
        "from sklearn.metrics import confusion_matrix, precision_score, recall_score\n",
        "import seaborn as sn"
      ],
      "execution_count": 53,
      "outputs": []
    },
    {
      "cell_type": "code",
      "metadata": {
        "colab": {
          "base_uri": "https://localhost:8080/"
        },
        "id": "9TWNodDe1kHu",
        "outputId": "5b860b90-9f14-4032-f023-388829a7adb4"
      },
      "source": [
        "from google.colab import drive\n",
        "drive.mount('/content/drive')"
      ],
      "execution_count": 2,
      "outputs": [
        {
          "output_type": "stream",
          "text": [
            "Mounted at /content/drive\n"
          ],
          "name": "stdout"
        }
      ]
    },
    {
      "cell_type": "code",
      "metadata": {
        "id": "KzFzH3CAMmxQ",
        "colab": {
          "base_uri": "https://localhost:8080/"
        },
        "outputId": "ea2fa5c6-b07c-431b-f0a7-cc8884e27930"
      },
      "source": [
        "df = pd.read_csv('/content/drive/My Drive/IDS-2018/02-16-2018.csv')\n",
        "df.drop(df.loc[df['Label'] == 'Label'].index, inplace=True)"
      ],
      "execution_count": 21,
      "outputs": [
        {
          "output_type": "stream",
          "text": [
            "/usr/local/lib/python3.7/dist-packages/IPython/core/interactiveshell.py:2718: DtypeWarning: Columns (0,1,3,4,5,6,7,8,9,10,11,12,13,14,15,16,17,18,19,20,21,22,23,24,25,26,27,28,29,30,31,32,33,34,35,36,37,38,39,40,41,42,43,44,45,46,47,48,49,50,51,52,53,54,55,56,57,58,59,60,61,62,63,64,65,66,67,68,69,70,71,72,73,74,75,76,77,78) have mixed types.Specify dtype option on import or set low_memory=False.\n",
            "  interactivity=interactivity, compiler=compiler, result=result)\n"
          ],
          "name": "stderr"
        }
      ]
    },
    {
      "cell_type": "code",
      "metadata": {
        "colab": {
          "base_uri": "https://localhost:8080/",
          "height": 261
        },
        "id": "oQdjN1DTBLWl",
        "outputId": "4ad8ccc8-7fc9-42d3-9acf-a4b0663efc6d"
      },
      "source": [
        "df.describe()"
      ],
      "execution_count": null,
      "outputs": [
        {
          "output_type": "execute_result",
          "data": {
            "text/html": [
              "<div>\n",
              "<style scoped>\n",
              "    .dataframe tbody tr th:only-of-type {\n",
              "        vertical-align: middle;\n",
              "    }\n",
              "\n",
              "    .dataframe tbody tr th {\n",
              "        vertical-align: top;\n",
              "    }\n",
              "\n",
              "    .dataframe thead th {\n",
              "        text-align: right;\n",
              "    }\n",
              "</style>\n",
              "<table border=\"1\" class=\"dataframe\">\n",
              "  <thead>\n",
              "    <tr style=\"text-align: right;\">\n",
              "      <th></th>\n",
              "      <th>Dst Port</th>\n",
              "      <th>Protocol</th>\n",
              "      <th>Timestamp</th>\n",
              "      <th>Flow Duration</th>\n",
              "      <th>Tot Fwd Pkts</th>\n",
              "      <th>Tot Bwd Pkts</th>\n",
              "      <th>TotLen Fwd Pkts</th>\n",
              "      <th>TotLen Bwd Pkts</th>\n",
              "      <th>Fwd Pkt Len Max</th>\n",
              "      <th>Fwd Pkt Len Min</th>\n",
              "      <th>Fwd Pkt Len Mean</th>\n",
              "      <th>Fwd Pkt Len Std</th>\n",
              "      <th>Bwd Pkt Len Max</th>\n",
              "      <th>Bwd Pkt Len Min</th>\n",
              "      <th>Bwd Pkt Len Mean</th>\n",
              "      <th>Bwd Pkt Len Std</th>\n",
              "      <th>Flow Byts/s</th>\n",
              "      <th>Flow Pkts/s</th>\n",
              "      <th>Flow IAT Mean</th>\n",
              "      <th>Flow IAT Std</th>\n",
              "      <th>Flow IAT Max</th>\n",
              "      <th>Flow IAT Min</th>\n",
              "      <th>Fwd IAT Tot</th>\n",
              "      <th>Fwd IAT Mean</th>\n",
              "      <th>Fwd IAT Std</th>\n",
              "      <th>Fwd IAT Max</th>\n",
              "      <th>Fwd IAT Min</th>\n",
              "      <th>Bwd IAT Tot</th>\n",
              "      <th>Bwd IAT Mean</th>\n",
              "      <th>Bwd IAT Std</th>\n",
              "      <th>Bwd IAT Max</th>\n",
              "      <th>Bwd IAT Min</th>\n",
              "      <th>Fwd PSH Flags</th>\n",
              "      <th>Bwd PSH Flags</th>\n",
              "      <th>Fwd URG Flags</th>\n",
              "      <th>Bwd URG Flags</th>\n",
              "      <th>Fwd Header Len</th>\n",
              "      <th>Bwd Header Len</th>\n",
              "      <th>Fwd Pkts/s</th>\n",
              "      <th>Bwd Pkts/s</th>\n",
              "      <th>Pkt Len Min</th>\n",
              "      <th>Pkt Len Max</th>\n",
              "      <th>Pkt Len Mean</th>\n",
              "      <th>Pkt Len Std</th>\n",
              "      <th>Pkt Len Var</th>\n",
              "      <th>FIN Flag Cnt</th>\n",
              "      <th>SYN Flag Cnt</th>\n",
              "      <th>RST Flag Cnt</th>\n",
              "      <th>PSH Flag Cnt</th>\n",
              "      <th>ACK Flag Cnt</th>\n",
              "      <th>URG Flag Cnt</th>\n",
              "      <th>CWE Flag Count</th>\n",
              "      <th>ECE Flag Cnt</th>\n",
              "      <th>Down/Up Ratio</th>\n",
              "      <th>Pkt Size Avg</th>\n",
              "      <th>Fwd Seg Size Avg</th>\n",
              "      <th>Bwd Seg Size Avg</th>\n",
              "      <th>Fwd Byts/b Avg</th>\n",
              "      <th>Fwd Pkts/b Avg</th>\n",
              "      <th>Fwd Blk Rate Avg</th>\n",
              "      <th>Bwd Byts/b Avg</th>\n",
              "      <th>Bwd Pkts/b Avg</th>\n",
              "      <th>Bwd Blk Rate Avg</th>\n",
              "      <th>Subflow Fwd Pkts</th>\n",
              "      <th>Subflow Fwd Byts</th>\n",
              "      <th>Subflow Bwd Pkts</th>\n",
              "      <th>Subflow Bwd Byts</th>\n",
              "      <th>Init Fwd Win Byts</th>\n",
              "      <th>Init Bwd Win Byts</th>\n",
              "      <th>Fwd Act Data Pkts</th>\n",
              "      <th>Fwd Seg Size Min</th>\n",
              "      <th>Active Mean</th>\n",
              "      <th>Active Std</th>\n",
              "      <th>Active Max</th>\n",
              "      <th>Active Min</th>\n",
              "      <th>Idle Mean</th>\n",
              "      <th>Idle Std</th>\n",
              "      <th>Idle Max</th>\n",
              "      <th>Idle Min</th>\n",
              "      <th>Label</th>\n",
              "    </tr>\n",
              "  </thead>\n",
              "  <tbody>\n",
              "    <tr>\n",
              "      <th>count</th>\n",
              "      <td>1048575</td>\n",
              "      <td>1048575</td>\n",
              "      <td>1048575</td>\n",
              "      <td>1048575</td>\n",
              "      <td>1048575</td>\n",
              "      <td>1048575</td>\n",
              "      <td>1048575</td>\n",
              "      <td>1048575</td>\n",
              "      <td>1048575</td>\n",
              "      <td>1048575</td>\n",
              "      <td>1048575.0</td>\n",
              "      <td>1048575.0</td>\n",
              "      <td>1048575</td>\n",
              "      <td>1048575</td>\n",
              "      <td>1048575.0</td>\n",
              "      <td>1048575.0</td>\n",
              "      <td>1048575.0</td>\n",
              "      <td>1048575.0</td>\n",
              "      <td>1048575.0</td>\n",
              "      <td>1048575.0</td>\n",
              "      <td>1048575</td>\n",
              "      <td>1048575</td>\n",
              "      <td>1048575</td>\n",
              "      <td>1048575.0</td>\n",
              "      <td>1048575.0</td>\n",
              "      <td>1048575</td>\n",
              "      <td>1048575</td>\n",
              "      <td>1048575</td>\n",
              "      <td>1048575.0</td>\n",
              "      <td>1048575.0</td>\n",
              "      <td>1048575</td>\n",
              "      <td>1048575</td>\n",
              "      <td>1048575</td>\n",
              "      <td>1048575</td>\n",
              "      <td>1048575</td>\n",
              "      <td>1048575</td>\n",
              "      <td>1048575</td>\n",
              "      <td>1048575</td>\n",
              "      <td>1048575.0</td>\n",
              "      <td>1048575.0</td>\n",
              "      <td>1048575</td>\n",
              "      <td>1048575</td>\n",
              "      <td>1048575.0</td>\n",
              "      <td>1048575.0</td>\n",
              "      <td>1048575.0</td>\n",
              "      <td>1048575</td>\n",
              "      <td>1048575</td>\n",
              "      <td>1048575</td>\n",
              "      <td>1048575</td>\n",
              "      <td>1048575</td>\n",
              "      <td>1048575</td>\n",
              "      <td>1048575</td>\n",
              "      <td>1048575</td>\n",
              "      <td>1048575</td>\n",
              "      <td>1048575.0</td>\n",
              "      <td>1048575.0</td>\n",
              "      <td>1048575.0</td>\n",
              "      <td>1048575</td>\n",
              "      <td>1048575</td>\n",
              "      <td>1048575</td>\n",
              "      <td>1048575</td>\n",
              "      <td>1048575</td>\n",
              "      <td>1048575</td>\n",
              "      <td>1048575</td>\n",
              "      <td>1048575</td>\n",
              "      <td>1048575</td>\n",
              "      <td>1048575</td>\n",
              "      <td>1048575</td>\n",
              "      <td>1048575</td>\n",
              "      <td>1048575</td>\n",
              "      <td>1048575</td>\n",
              "      <td>1048575</td>\n",
              "      <td>1048575.0</td>\n",
              "      <td>1048575</td>\n",
              "      <td>1048575</td>\n",
              "      <td>1048575.0</td>\n",
              "      <td>1048575.0</td>\n",
              "      <td>1048575</td>\n",
              "      <td>1048575</td>\n",
              "      <td>1048575</td>\n",
              "    </tr>\n",
              "    <tr>\n",
              "      <th>unique</th>\n",
              "      <td>14464</td>\n",
              "      <td>7</td>\n",
              "      <td>3178</td>\n",
              "      <td>453876</td>\n",
              "      <td>43</td>\n",
              "      <td>37</td>\n",
              "      <td>481</td>\n",
              "      <td>862</td>\n",
              "      <td>182</td>\n",
              "      <td>7</td>\n",
              "      <td>936.0</td>\n",
              "      <td>974.0</td>\n",
              "      <td>269</td>\n",
              "      <td>6</td>\n",
              "      <td>1629.0</td>\n",
              "      <td>1355.0</td>\n",
              "      <td>466738.0</td>\n",
              "      <td>490239.0</td>\n",
              "      <td>482016.0</td>\n",
              "      <td>495263.0</td>\n",
              "      <td>408374</td>\n",
              "      <td>59293</td>\n",
              "      <td>444573</td>\n",
              "      <td>453999.0</td>\n",
              "      <td>483928.0</td>\n",
              "      <td>413892</td>\n",
              "      <td>60511</td>\n",
              "      <td>201982</td>\n",
              "      <td>216668.0</td>\n",
              "      <td>237517.0</td>\n",
              "      <td>185603</td>\n",
              "      <td>39421</td>\n",
              "      <td>5</td>\n",
              "      <td>3</td>\n",
              "      <td>3</td>\n",
              "      <td>3</td>\n",
              "      <td>80</td>\n",
              "      <td>76</td>\n",
              "      <td>471211.0</td>\n",
              "      <td>406414.0</td>\n",
              "      <td>5</td>\n",
              "      <td>35</td>\n",
              "      <td>2199.0</td>\n",
              "      <td>2289.0</td>\n",
              "      <td>2289.0</td>\n",
              "      <td>4</td>\n",
              "      <td>5</td>\n",
              "      <td>5</td>\n",
              "      <td>5</td>\n",
              "      <td>5</td>\n",
              "      <td>5</td>\n",
              "      <td>3</td>\n",
              "      <td>5</td>\n",
              "      <td>10</td>\n",
              "      <td>2192.0</td>\n",
              "      <td>936.0</td>\n",
              "      <td>1629.0</td>\n",
              "      <td>3</td>\n",
              "      <td>3</td>\n",
              "      <td>3</td>\n",
              "      <td>3</td>\n",
              "      <td>3</td>\n",
              "      <td>3</td>\n",
              "      <td>43</td>\n",
              "      <td>481</td>\n",
              "      <td>37</td>\n",
              "      <td>862</td>\n",
              "      <td>42</td>\n",
              "      <td>37</td>\n",
              "      <td>25</td>\n",
              "      <td>11</td>\n",
              "      <td>5696</td>\n",
              "      <td>19.0</td>\n",
              "      <td>5697</td>\n",
              "      <td>5696</td>\n",
              "      <td>46002.0</td>\n",
              "      <td>138.0</td>\n",
              "      <td>46002</td>\n",
              "      <td>46002</td>\n",
              "      <td>4</td>\n",
              "    </tr>\n",
              "    <tr>\n",
              "      <th>top</th>\n",
              "      <td>80</td>\n",
              "      <td>6</td>\n",
              "      <td>16/02/2018 01:45:28</td>\n",
              "      <td>2</td>\n",
              "      <td>5</td>\n",
              "      <td>0</td>\n",
              "      <td>0</td>\n",
              "      <td>0</td>\n",
              "      <td>0</td>\n",
              "      <td>0</td>\n",
              "      <td>0.0</td>\n",
              "      <td>0.0</td>\n",
              "      <td>0</td>\n",
              "      <td>0</td>\n",
              "      <td>0.0</td>\n",
              "      <td>0.0</td>\n",
              "      <td>0.0</td>\n",
              "      <td>1000000.0</td>\n",
              "      <td>2.0</td>\n",
              "      <td>0.0</td>\n",
              "      <td>2</td>\n",
              "      <td>6</td>\n",
              "      <td>0</td>\n",
              "      <td>0.0</td>\n",
              "      <td>0.0</td>\n",
              "      <td>0</td>\n",
              "      <td>0</td>\n",
              "      <td>0</td>\n",
              "      <td>0.0</td>\n",
              "      <td>0.0</td>\n",
              "      <td>0</td>\n",
              "      <td>0</td>\n",
              "      <td>0</td>\n",
              "      <td>0</td>\n",
              "      <td>0</td>\n",
              "      <td>0</td>\n",
              "      <td>168</td>\n",
              "      <td>0</td>\n",
              "      <td>500000.0</td>\n",
              "      <td>0.0</td>\n",
              "      <td>0</td>\n",
              "      <td>0</td>\n",
              "      <td>0.0</td>\n",
              "      <td>0.0</td>\n",
              "      <td>0.0</td>\n",
              "      <td>0</td>\n",
              "      <td>0</td>\n",
              "      <td>0</td>\n",
              "      <td>0</td>\n",
              "      <td>1</td>\n",
              "      <td>0</td>\n",
              "      <td>0</td>\n",
              "      <td>0</td>\n",
              "      <td>0</td>\n",
              "      <td>0.0</td>\n",
              "      <td>0.0</td>\n",
              "      <td>0.0</td>\n",
              "      <td>0</td>\n",
              "      <td>0</td>\n",
              "      <td>0</td>\n",
              "      <td>0</td>\n",
              "      <td>0</td>\n",
              "      <td>0</td>\n",
              "      <td>5</td>\n",
              "      <td>0</td>\n",
              "      <td>0</td>\n",
              "      <td>0</td>\n",
              "      <td>225</td>\n",
              "      <td>-1</td>\n",
              "      <td>0</td>\n",
              "      <td>32</td>\n",
              "      <td>0</td>\n",
              "      <td>0.0</td>\n",
              "      <td>0</td>\n",
              "      <td>0</td>\n",
              "      <td>0.0</td>\n",
              "      <td>0.0</td>\n",
              "      <td>0</td>\n",
              "      <td>0</td>\n",
              "      <td>DoS attacks-Hulk</td>\n",
              "    </tr>\n",
              "    <tr>\n",
              "      <th>freq</th>\n",
              "      <td>461655</td>\n",
              "      <td>1040250</td>\n",
              "      <td>8403</td>\n",
              "      <td>58706</td>\n",
              "      <td>426407</td>\n",
              "      <td>438014</td>\n",
              "      <td>572790</td>\n",
              "      <td>572823</td>\n",
              "      <td>572790</td>\n",
              "      <td>1040366</td>\n",
              "      <td>572790.0</td>\n",
              "      <td>572802.0</td>\n",
              "      <td>572823</td>\n",
              "      <td>1040369</td>\n",
              "      <td>572823.0</td>\n",
              "      <td>572837.0</td>\n",
              "      <td>572788.0</td>\n",
              "      <td>58706.0</td>\n",
              "      <td>58706.0</td>\n",
              "      <td>508718.0</td>\n",
              "      <td>58706</td>\n",
              "      <td>112557</td>\n",
              "      <td>134812</td>\n",
              "      <td>134812.0</td>\n",
              "      <td>511139.0</td>\n",
              "      <td>134812</td>\n",
              "      <td>134812</td>\n",
              "      <td>570418</td>\n",
              "      <td>570418.0</td>\n",
              "      <td>572016.0</td>\n",
              "      <td>570418</td>\n",
              "      <td>570418</td>\n",
              "      <td>1040345</td>\n",
              "      <td>1040383</td>\n",
              "      <td>1040383</td>\n",
              "      <td>1040383</td>\n",
              "      <td>425965</td>\n",
              "      <td>438014</td>\n",
              "      <td>58717.0</td>\n",
              "      <td>438014.0</td>\n",
              "      <td>1040371</td>\n",
              "      <td>572788</td>\n",
              "      <td>572788.0</td>\n",
              "      <td>572788.0</td>\n",
              "      <td>572788.0</td>\n",
              "      <td>1039116</td>\n",
              "      <td>1040345</td>\n",
              "      <td>1040381</td>\n",
              "      <td>893790</td>\n",
              "      <td>892390</td>\n",
              "      <td>1013987</td>\n",
              "      <td>1040383</td>\n",
              "      <td>1040381</td>\n",
              "      <td>847479</td>\n",
              "      <td>572788.0</td>\n",
              "      <td>572790.0</td>\n",
              "      <td>572823.0</td>\n",
              "      <td>1040383</td>\n",
              "      <td>1040383</td>\n",
              "      <td>1040383</td>\n",
              "      <td>1040383</td>\n",
              "      <td>1040383</td>\n",
              "      <td>1040383</td>\n",
              "      <td>426407</td>\n",
              "      <td>572790</td>\n",
              "      <td>438014</td>\n",
              "      <td>572823</td>\n",
              "      <td>446265</td>\n",
              "      <td>438026</td>\n",
              "      <td>572826</td>\n",
              "      <td>905621</td>\n",
              "      <td>1031324</td>\n",
              "      <td>1040366.0</td>\n",
              "      <td>1031324</td>\n",
              "      <td>1031324</td>\n",
              "      <td>982182.0</td>\n",
              "      <td>1040244.0</td>\n",
              "      <td>982182</td>\n",
              "      <td>982182</td>\n",
              "      <td>461912</td>\n",
              "    </tr>\n",
              "  </tbody>\n",
              "</table>\n",
              "</div>"
            ],
            "text/plain": [
              "        Dst Port  Protocol  ... Idle Min             Label\n",
              "count    1048575   1048575  ...  1048575           1048575\n",
              "unique     14464         7  ...    46002                 4\n",
              "top           80         6  ...        0  DoS attacks-Hulk\n",
              "freq      461655   1040250  ...   982182            461912\n",
              "\n",
              "[4 rows x 80 columns]"
            ]
          },
          "metadata": {
            "tags": []
          },
          "execution_count": 6
        }
      ]
    },
    {
      "cell_type": "code",
      "metadata": {
        "id": "YZFMTRPvM9ts",
        "colab": {
          "base_uri": "https://localhost:8080/",
          "height": 360
        },
        "outputId": "03894b34-3289-416f-8ff7-f38b6852d6f6"
      },
      "source": [
        "df.head()"
      ],
      "execution_count": null,
      "outputs": [
        {
          "output_type": "execute_result",
          "data": {
            "text/html": [
              "<div>\n",
              "<style scoped>\n",
              "    .dataframe tbody tr th:only-of-type {\n",
              "        vertical-align: middle;\n",
              "    }\n",
              "\n",
              "    .dataframe tbody tr th {\n",
              "        vertical-align: top;\n",
              "    }\n",
              "\n",
              "    .dataframe thead th {\n",
              "        text-align: right;\n",
              "    }\n",
              "</style>\n",
              "<table border=\"1\" class=\"dataframe\">\n",
              "  <thead>\n",
              "    <tr style=\"text-align: right;\">\n",
              "      <th></th>\n",
              "      <th>Dst Port</th>\n",
              "      <th>Protocol</th>\n",
              "      <th>Timestamp</th>\n",
              "      <th>Flow Duration</th>\n",
              "      <th>Tot Fwd Pkts</th>\n",
              "      <th>Tot Bwd Pkts</th>\n",
              "      <th>TotLen Fwd Pkts</th>\n",
              "      <th>TotLen Bwd Pkts</th>\n",
              "      <th>Fwd Pkt Len Max</th>\n",
              "      <th>Fwd Pkt Len Min</th>\n",
              "      <th>Fwd Pkt Len Mean</th>\n",
              "      <th>Fwd Pkt Len Std</th>\n",
              "      <th>Bwd Pkt Len Max</th>\n",
              "      <th>Bwd Pkt Len Min</th>\n",
              "      <th>Bwd Pkt Len Mean</th>\n",
              "      <th>Bwd Pkt Len Std</th>\n",
              "      <th>Flow Byts/s</th>\n",
              "      <th>Flow Pkts/s</th>\n",
              "      <th>Flow IAT Mean</th>\n",
              "      <th>Flow IAT Std</th>\n",
              "      <th>Flow IAT Max</th>\n",
              "      <th>Flow IAT Min</th>\n",
              "      <th>Fwd IAT Tot</th>\n",
              "      <th>Fwd IAT Mean</th>\n",
              "      <th>Fwd IAT Std</th>\n",
              "      <th>Fwd IAT Max</th>\n",
              "      <th>Fwd IAT Min</th>\n",
              "      <th>Bwd IAT Tot</th>\n",
              "      <th>Bwd IAT Mean</th>\n",
              "      <th>Bwd IAT Std</th>\n",
              "      <th>Bwd IAT Max</th>\n",
              "      <th>Bwd IAT Min</th>\n",
              "      <th>Fwd PSH Flags</th>\n",
              "      <th>Bwd PSH Flags</th>\n",
              "      <th>Fwd URG Flags</th>\n",
              "      <th>Bwd URG Flags</th>\n",
              "      <th>Fwd Header Len</th>\n",
              "      <th>Bwd Header Len</th>\n",
              "      <th>Fwd Pkts/s</th>\n",
              "      <th>Bwd Pkts/s</th>\n",
              "      <th>Pkt Len Min</th>\n",
              "      <th>Pkt Len Max</th>\n",
              "      <th>Pkt Len Mean</th>\n",
              "      <th>Pkt Len Std</th>\n",
              "      <th>Pkt Len Var</th>\n",
              "      <th>FIN Flag Cnt</th>\n",
              "      <th>SYN Flag Cnt</th>\n",
              "      <th>RST Flag Cnt</th>\n",
              "      <th>PSH Flag Cnt</th>\n",
              "      <th>ACK Flag Cnt</th>\n",
              "      <th>URG Flag Cnt</th>\n",
              "      <th>CWE Flag Count</th>\n",
              "      <th>ECE Flag Cnt</th>\n",
              "      <th>Down/Up Ratio</th>\n",
              "      <th>Pkt Size Avg</th>\n",
              "      <th>Fwd Seg Size Avg</th>\n",
              "      <th>Bwd Seg Size Avg</th>\n",
              "      <th>Fwd Byts/b Avg</th>\n",
              "      <th>Fwd Pkts/b Avg</th>\n",
              "      <th>Fwd Blk Rate Avg</th>\n",
              "      <th>Bwd Byts/b Avg</th>\n",
              "      <th>Bwd Pkts/b Avg</th>\n",
              "      <th>Bwd Blk Rate Avg</th>\n",
              "      <th>Subflow Fwd Pkts</th>\n",
              "      <th>Subflow Fwd Byts</th>\n",
              "      <th>Subflow Bwd Pkts</th>\n",
              "      <th>Subflow Bwd Byts</th>\n",
              "      <th>Init Fwd Win Byts</th>\n",
              "      <th>Init Bwd Win Byts</th>\n",
              "      <th>Fwd Act Data Pkts</th>\n",
              "      <th>Fwd Seg Size Min</th>\n",
              "      <th>Active Mean</th>\n",
              "      <th>Active Std</th>\n",
              "      <th>Active Max</th>\n",
              "      <th>Active Min</th>\n",
              "      <th>Idle Mean</th>\n",
              "      <th>Idle Std</th>\n",
              "      <th>Idle Max</th>\n",
              "      <th>Idle Min</th>\n",
              "      <th>Label</th>\n",
              "    </tr>\n",
              "  </thead>\n",
              "  <tbody>\n",
              "    <tr>\n",
              "      <th>0</th>\n",
              "      <td>0</td>\n",
              "      <td>0</td>\n",
              "      <td>16/02/2018 08:27:23</td>\n",
              "      <td>112640768</td>\n",
              "      <td>3</td>\n",
              "      <td>0</td>\n",
              "      <td>0</td>\n",
              "      <td>0</td>\n",
              "      <td>0</td>\n",
              "      <td>0</td>\n",
              "      <td>0</td>\n",
              "      <td>0</td>\n",
              "      <td>0</td>\n",
              "      <td>0</td>\n",
              "      <td>0</td>\n",
              "      <td>0</td>\n",
              "      <td>0</td>\n",
              "      <td>0.0266333</td>\n",
              "      <td>5.63e+07</td>\n",
              "      <td>138.593</td>\n",
              "      <td>56300000</td>\n",
              "      <td>56300000</td>\n",
              "      <td>113000000</td>\n",
              "      <td>5.63e+07</td>\n",
              "      <td>138.593</td>\n",
              "      <td>56300000</td>\n",
              "      <td>56300000</td>\n",
              "      <td>0</td>\n",
              "      <td>0</td>\n",
              "      <td>0</td>\n",
              "      <td>0</td>\n",
              "      <td>0</td>\n",
              "      <td>0</td>\n",
              "      <td>0</td>\n",
              "      <td>0</td>\n",
              "      <td>0</td>\n",
              "      <td>0</td>\n",
              "      <td>0</td>\n",
              "      <td>0.0266333</td>\n",
              "      <td>0</td>\n",
              "      <td>0</td>\n",
              "      <td>0</td>\n",
              "      <td>0</td>\n",
              "      <td>0</td>\n",
              "      <td>0</td>\n",
              "      <td>0</td>\n",
              "      <td>0</td>\n",
              "      <td>0</td>\n",
              "      <td>0</td>\n",
              "      <td>0</td>\n",
              "      <td>0</td>\n",
              "      <td>0</td>\n",
              "      <td>0</td>\n",
              "      <td>0</td>\n",
              "      <td>0</td>\n",
              "      <td>0</td>\n",
              "      <td>0</td>\n",
              "      <td>0</td>\n",
              "      <td>0</td>\n",
              "      <td>0</td>\n",
              "      <td>0</td>\n",
              "      <td>0</td>\n",
              "      <td>0</td>\n",
              "      <td>3</td>\n",
              "      <td>0</td>\n",
              "      <td>0</td>\n",
              "      <td>0</td>\n",
              "      <td>-1</td>\n",
              "      <td>-1</td>\n",
              "      <td>0</td>\n",
              "      <td>0</td>\n",
              "      <td>0</td>\n",
              "      <td>0</td>\n",
              "      <td>0</td>\n",
              "      <td>0</td>\n",
              "      <td>5.63e+07</td>\n",
              "      <td>138.593</td>\n",
              "      <td>56300000</td>\n",
              "      <td>56300000</td>\n",
              "      <td>Benign</td>\n",
              "    </tr>\n",
              "    <tr>\n",
              "      <th>1</th>\n",
              "      <td>0</td>\n",
              "      <td>0</td>\n",
              "      <td>16/02/2018 08:30:12</td>\n",
              "      <td>112641773</td>\n",
              "      <td>3</td>\n",
              "      <td>0</td>\n",
              "      <td>0</td>\n",
              "      <td>0</td>\n",
              "      <td>0</td>\n",
              "      <td>0</td>\n",
              "      <td>0</td>\n",
              "      <td>0</td>\n",
              "      <td>0</td>\n",
              "      <td>0</td>\n",
              "      <td>0</td>\n",
              "      <td>0</td>\n",
              "      <td>0</td>\n",
              "      <td>0.0266331</td>\n",
              "      <td>5.63e+07</td>\n",
              "      <td>263.751</td>\n",
              "      <td>56300000</td>\n",
              "      <td>56300000</td>\n",
              "      <td>113000000</td>\n",
              "      <td>5.63e+07</td>\n",
              "      <td>263.751</td>\n",
              "      <td>56300000</td>\n",
              "      <td>56300000</td>\n",
              "      <td>0</td>\n",
              "      <td>0</td>\n",
              "      <td>0</td>\n",
              "      <td>0</td>\n",
              "      <td>0</td>\n",
              "      <td>0</td>\n",
              "      <td>0</td>\n",
              "      <td>0</td>\n",
              "      <td>0</td>\n",
              "      <td>0</td>\n",
              "      <td>0</td>\n",
              "      <td>0.0266331</td>\n",
              "      <td>0</td>\n",
              "      <td>0</td>\n",
              "      <td>0</td>\n",
              "      <td>0</td>\n",
              "      <td>0</td>\n",
              "      <td>0</td>\n",
              "      <td>0</td>\n",
              "      <td>0</td>\n",
              "      <td>0</td>\n",
              "      <td>0</td>\n",
              "      <td>0</td>\n",
              "      <td>0</td>\n",
              "      <td>0</td>\n",
              "      <td>0</td>\n",
              "      <td>0</td>\n",
              "      <td>0</td>\n",
              "      <td>0</td>\n",
              "      <td>0</td>\n",
              "      <td>0</td>\n",
              "      <td>0</td>\n",
              "      <td>0</td>\n",
              "      <td>0</td>\n",
              "      <td>0</td>\n",
              "      <td>0</td>\n",
              "      <td>3</td>\n",
              "      <td>0</td>\n",
              "      <td>0</td>\n",
              "      <td>0</td>\n",
              "      <td>-1</td>\n",
              "      <td>-1</td>\n",
              "      <td>0</td>\n",
              "      <td>0</td>\n",
              "      <td>0</td>\n",
              "      <td>0</td>\n",
              "      <td>0</td>\n",
              "      <td>0</td>\n",
              "      <td>5.63e+07</td>\n",
              "      <td>263.751</td>\n",
              "      <td>56300000</td>\n",
              "      <td>56300000</td>\n",
              "      <td>Benign</td>\n",
              "    </tr>\n",
              "    <tr>\n",
              "      <th>2</th>\n",
              "      <td>35605</td>\n",
              "      <td>6</td>\n",
              "      <td>16/02/2018 08:26:55</td>\n",
              "      <td>20784143</td>\n",
              "      <td>23</td>\n",
              "      <td>44</td>\n",
              "      <td>2416</td>\n",
              "      <td>1344</td>\n",
              "      <td>240</td>\n",
              "      <td>64</td>\n",
              "      <td>105.043</td>\n",
              "      <td>54.5423</td>\n",
              "      <td>64</td>\n",
              "      <td>0</td>\n",
              "      <td>30.5455</td>\n",
              "      <td>32.3365</td>\n",
              "      <td>180.907</td>\n",
              "      <td>3.22361</td>\n",
              "      <td>314911</td>\n",
              "      <td>1.14595e+06</td>\n",
              "      <td>9058214</td>\n",
              "      <td>66</td>\n",
              "      <td>20700000</td>\n",
              "      <td>940484</td>\n",
              "      <td>1.89833e+06</td>\n",
              "      <td>9144734</td>\n",
              "      <td>66</td>\n",
              "      <td>20700000</td>\n",
              "      <td>482352</td>\n",
              "      <td>1.39641e+06</td>\n",
              "      <td>9058214</td>\n",
              "      <td>41601</td>\n",
              "      <td>1</td>\n",
              "      <td>0</td>\n",
              "      <td>0</td>\n",
              "      <td>0</td>\n",
              "      <td>460</td>\n",
              "      <td>880</td>\n",
              "      <td>1.10661</td>\n",
              "      <td>2.117</td>\n",
              "      <td>0</td>\n",
              "      <td>240</td>\n",
              "      <td>56.2353</td>\n",
              "      <td>53.8517</td>\n",
              "      <td>2900</td>\n",
              "      <td>0</td>\n",
              "      <td>1</td>\n",
              "      <td>0</td>\n",
              "      <td>0</td>\n",
              "      <td>1</td>\n",
              "      <td>0</td>\n",
              "      <td>0</td>\n",
              "      <td>0</td>\n",
              "      <td>1</td>\n",
              "      <td>57.0746</td>\n",
              "      <td>105.043</td>\n",
              "      <td>30.5455</td>\n",
              "      <td>0</td>\n",
              "      <td>0</td>\n",
              "      <td>0</td>\n",
              "      <td>0</td>\n",
              "      <td>0</td>\n",
              "      <td>0</td>\n",
              "      <td>23</td>\n",
              "      <td>2416</td>\n",
              "      <td>44</td>\n",
              "      <td>1344</td>\n",
              "      <td>263</td>\n",
              "      <td>255</td>\n",
              "      <td>22</td>\n",
              "      <td>20</td>\n",
              "      <td>2624734</td>\n",
              "      <td>0</td>\n",
              "      <td>2624734</td>\n",
              "      <td>2624734</td>\n",
              "      <td>9.05821e+06</td>\n",
              "      <td>0</td>\n",
              "      <td>9058214</td>\n",
              "      <td>9058214</td>\n",
              "      <td>Benign</td>\n",
              "    </tr>\n",
              "    <tr>\n",
              "      <th>3</th>\n",
              "      <td>0</td>\n",
              "      <td>0</td>\n",
              "      <td>16/02/2018 08:33:01</td>\n",
              "      <td>112640836</td>\n",
              "      <td>3</td>\n",
              "      <td>0</td>\n",
              "      <td>0</td>\n",
              "      <td>0</td>\n",
              "      <td>0</td>\n",
              "      <td>0</td>\n",
              "      <td>0</td>\n",
              "      <td>0</td>\n",
              "      <td>0</td>\n",
              "      <td>0</td>\n",
              "      <td>0</td>\n",
              "      <td>0</td>\n",
              "      <td>0</td>\n",
              "      <td>0.0266333</td>\n",
              "      <td>5.63e+07</td>\n",
              "      <td>82.0244</td>\n",
              "      <td>56300000</td>\n",
              "      <td>56300000</td>\n",
              "      <td>113000000</td>\n",
              "      <td>5.63e+07</td>\n",
              "      <td>82.0244</td>\n",
              "      <td>56300000</td>\n",
              "      <td>56300000</td>\n",
              "      <td>0</td>\n",
              "      <td>0</td>\n",
              "      <td>0</td>\n",
              "      <td>0</td>\n",
              "      <td>0</td>\n",
              "      <td>0</td>\n",
              "      <td>0</td>\n",
              "      <td>0</td>\n",
              "      <td>0</td>\n",
              "      <td>0</td>\n",
              "      <td>0</td>\n",
              "      <td>0.0266333</td>\n",
              "      <td>0</td>\n",
              "      <td>0</td>\n",
              "      <td>0</td>\n",
              "      <td>0</td>\n",
              "      <td>0</td>\n",
              "      <td>0</td>\n",
              "      <td>0</td>\n",
              "      <td>0</td>\n",
              "      <td>0</td>\n",
              "      <td>0</td>\n",
              "      <td>0</td>\n",
              "      <td>0</td>\n",
              "      <td>0</td>\n",
              "      <td>0</td>\n",
              "      <td>0</td>\n",
              "      <td>0</td>\n",
              "      <td>0</td>\n",
              "      <td>0</td>\n",
              "      <td>0</td>\n",
              "      <td>0</td>\n",
              "      <td>0</td>\n",
              "      <td>0</td>\n",
              "      <td>0</td>\n",
              "      <td>0</td>\n",
              "      <td>3</td>\n",
              "      <td>0</td>\n",
              "      <td>0</td>\n",
              "      <td>0</td>\n",
              "      <td>-1</td>\n",
              "      <td>-1</td>\n",
              "      <td>0</td>\n",
              "      <td>0</td>\n",
              "      <td>0</td>\n",
              "      <td>0</td>\n",
              "      <td>0</td>\n",
              "      <td>0</td>\n",
              "      <td>5.63e+07</td>\n",
              "      <td>82.0244</td>\n",
              "      <td>56300000</td>\n",
              "      <td>56300000</td>\n",
              "      <td>Benign</td>\n",
              "    </tr>\n",
              "    <tr>\n",
              "      <th>4</th>\n",
              "      <td>23</td>\n",
              "      <td>6</td>\n",
              "      <td>16/02/2018 08:27:59</td>\n",
              "      <td>20</td>\n",
              "      <td>1</td>\n",
              "      <td>1</td>\n",
              "      <td>0</td>\n",
              "      <td>0</td>\n",
              "      <td>0</td>\n",
              "      <td>0</td>\n",
              "      <td>0</td>\n",
              "      <td>0</td>\n",
              "      <td>0</td>\n",
              "      <td>0</td>\n",
              "      <td>0</td>\n",
              "      <td>0</td>\n",
              "      <td>0</td>\n",
              "      <td>100000</td>\n",
              "      <td>20</td>\n",
              "      <td>0</td>\n",
              "      <td>20</td>\n",
              "      <td>20</td>\n",
              "      <td>0</td>\n",
              "      <td>0</td>\n",
              "      <td>0</td>\n",
              "      <td>0</td>\n",
              "      <td>0</td>\n",
              "      <td>0</td>\n",
              "      <td>0</td>\n",
              "      <td>0</td>\n",
              "      <td>0</td>\n",
              "      <td>0</td>\n",
              "      <td>0</td>\n",
              "      <td>0</td>\n",
              "      <td>0</td>\n",
              "      <td>0</td>\n",
              "      <td>20</td>\n",
              "      <td>20</td>\n",
              "      <td>50000</td>\n",
              "      <td>50000</td>\n",
              "      <td>0</td>\n",
              "      <td>0</td>\n",
              "      <td>0</td>\n",
              "      <td>0</td>\n",
              "      <td>0</td>\n",
              "      <td>0</td>\n",
              "      <td>0</td>\n",
              "      <td>0</td>\n",
              "      <td>1</td>\n",
              "      <td>0</td>\n",
              "      <td>0</td>\n",
              "      <td>0</td>\n",
              "      <td>0</td>\n",
              "      <td>1</td>\n",
              "      <td>0</td>\n",
              "      <td>0</td>\n",
              "      <td>0</td>\n",
              "      <td>0</td>\n",
              "      <td>0</td>\n",
              "      <td>0</td>\n",
              "      <td>0</td>\n",
              "      <td>0</td>\n",
              "      <td>0</td>\n",
              "      <td>1</td>\n",
              "      <td>0</td>\n",
              "      <td>1</td>\n",
              "      <td>0</td>\n",
              "      <td>58856</td>\n",
              "      <td>0</td>\n",
              "      <td>0</td>\n",
              "      <td>20</td>\n",
              "      <td>0</td>\n",
              "      <td>0</td>\n",
              "      <td>0</td>\n",
              "      <td>0</td>\n",
              "      <td>0</td>\n",
              "      <td>0</td>\n",
              "      <td>0</td>\n",
              "      <td>0</td>\n",
              "      <td>Benign</td>\n",
              "    </tr>\n",
              "  </tbody>\n",
              "</table>\n",
              "</div>"
            ],
            "text/plain": [
              "  Dst Port Protocol            Timestamp  ...  Idle Max  Idle Min   Label\n",
              "0        0        0  16/02/2018 08:27:23  ...  56300000  56300000  Benign\n",
              "1        0        0  16/02/2018 08:30:12  ...  56300000  56300000  Benign\n",
              "2    35605        6  16/02/2018 08:26:55  ...   9058214   9058214  Benign\n",
              "3        0        0  16/02/2018 08:33:01  ...  56300000  56300000  Benign\n",
              "4       23        6  16/02/2018 08:27:59  ...         0         0  Benign\n",
              "\n",
              "[5 rows x 80 columns]"
            ]
          },
          "metadata": {
            "tags": []
          },
          "execution_count": 7
        }
      ]
    },
    {
      "cell_type": "code",
      "metadata": {
        "id": "HixtSvMpM_Fq"
      },
      "source": [
        "metadata = ['fl_dur' #Flow duration\n",
        ",'tot_fw_pk' #Total packets in the forward direction\n",
        ",'tot_bw_pk' #Total packets in the backward direction\n",
        ",'tot_l_fw_pkt' #Total size of packet in forward direction\n",
        ",'fw_pkt_l_max' #Maximum size of packet in forward direction\n",
        ",'fw_pkt_l_min' #Minimum size of packet in forward direction\n",
        ",'fw_pkt_l_avg' #Average size of packet in forward direction\n",
        ",'fw_pkt_l_std' #Standard deviation size of packet in forward direction\n",
        ",'Bw_pkt_l_max' #Maximum size of packet in backward direction\n",
        ",'Bw_pkt_l_min' #Minimum size of packet in backward direction\n",
        ",'Bw_pkt_l_avg' #Mean size of packet in backward direction\n",
        ",'Bw_pkt_l_std' #Standard deviation size of packet in backward direction\n",
        ",'fl_byt_s' #flow byte rate that is number of packets transferred per second\n",
        ",'fl_pkt_s' #flow packets rate that is number of packets transferred per second\n",
        ",'fl_iat_avg' #Average time between two flows\n",
        ",'fl_iat_std' #Standard deviation time two flows\n",
        ",'fl_iat_max' #Maximum time between two flows\n",
        ",'fl_iat_min' #Minimum time between two flows\n",
        ",'fw_iat_tot' #Total time between two packets sent in the forward direction\n",
        ",'fw_iat_avg' #Mean time between two packets sent in the forward direction\n",
        ",'fw_iat_std' #Standard deviation time between two packets sent in the forward direction\n",
        ",'fw_iat_max' #Maximum time between two packets sent in the forward direction\n",
        ",'fw_iat_min' #Minimum time between two packets sent in the forward direction\n",
        ",'bw_iat_tot' #Total time between two packets sent in the backward direction\n",
        ",'bw_iat_avg' #Mean time between two packets sent in the backward direction\n",
        ",'bw_iat_std' #Standard deviation time between two packets sent in the backward direction\n",
        ",'bw_iat_max' #Maximum time between two packets sent in the backward direction\n",
        ",'bw_iat_min' #Minimum time between two packets sent in the backward direction\n",
        ",'fw_psh_flag' #Number of times the PSH flag was set in packets travelling in the forward direction (0 for UDP)\n",
        ",'bw_psh_flag' #Number of times the PSH flag was set in packets travelling in the backward direction (0 for UDP)\n",
        ",'fw_urg_flag' #Number of times the URG flag was set in packets travelling in the forward direction (0 for UDP)\n",
        ",'bw_urg_flag' #Number of times the URG flag was set in packets travelling in the backward direction (0 for UDP)\n",
        ",'fw_hdr_len' #Total bytes used for headers in the forward direction\n",
        ",'bw_hdr_len' #Total bytes used for headers in the forward direction\n",
        ",'fw_pkt_s' #Number of forward packets per second\n",
        ",'bw_pkt_s' #Number of backward packets per second\n",
        ",'pkt_len_min' #Minimum length of a flow\n",
        ",'pkt_len_max' #Maximum length of a flow\n",
        ",'pkt_len_avg' #Mean length of a flow\n",
        ",'pkt_len_std' #Standard deviation length of a flow\n",
        ",'pkt_len_va' #Minimum inter-arrival time of packet\n",
        ",'fin_cnt' #Number of packets with FIN\n",
        ",'syn_cnt' #Number of packets with SYN\n",
        ",'rst_cnt' #Number of packets with RST\n",
        ",'pst_cnt' #Number of packets with PUSH\n",
        ",'ack_cnt' #Number of packets with ACK\n",
        ",'urg_cnt' #Number of packets with URG\n",
        ",'cwe_cnt' #Number of packets with CWE\n",
        ",'ece_cnt' #Number of packets with ECE\n",
        ",'down_up_ratio' #Download and upload ratio\n",
        ",'pkt_size_avg' #Average size of packet\n",
        ",'fw_seg_avg' #Average size observed in the forward direction\n",
        ",'bw_seg_avg' #Average size observed in the backward direction\n",
        ",'fw_byt_blk_avg' #Average number of bytes bulk rate in the forward direction\n",
        ",'fw_pkt_blk_avg' #Average number of packets bulk rate in the forward direction\n",
        ",'fw_blk_rate_avg' #Average number of bulk rate in the forward direction\n",
        ",'bw_byt_blk_avg' #Average number of bytes bulk rate in the backward direction\n",
        ",'bw_pkt_blk_avg' #Average number of packets bulk rate in the backward direction\n",
        ",'bw_blk_rate_avg' #Average number of bulk rate in the backward direction\n",
        ",'subfl_fw_pk' #The average number of packets in a sub flow in the forward direction\n",
        ",'subfl_fw_byt' #The average number of bytes in a sub flow in the forward direction\n",
        ",'subfl_bw_pkt' #The average number of packets in a sub flow in the backward direction\n",
        ",'subfl_bw_byt' #The average number of bytes in a sub flow in the backward direction\n",
        ",'fw_win_byt' #Number of bytes sent in initial window in the forward direction\n",
        ",'bw_win_byt' ## of bytes sent in initial window in the backward direction\n",
        ",'Fw_act_pkt' ## of packets with at least 1 byte of TCP data payload in the forward direction\n",
        ",'fw_seg_min' #Minimum segment size observed in the forward direction\n",
        ",'atv_avg' #Mean time a flow was active before becoming idle\n",
        ",'atv_std' #Standard deviation time a flow was active before becoming idle\n",
        ",'atv_max' #Maximum time a flow was active before becoming idle\n",
        ",'atv_min' #Minimum time a flow was active before becoming idle\n",
        ",'idl_avg' #Mean time a flow was idle before becoming active\n",
        ",'idl_std' #Standard deviation time a flow was idle before becoming active\n",
        ",'idl_max' #Maximum time a flow was idle before becoming active\n",
        ",'idl_min' #Minimum time a flow was idle before becoming active\n",
        "]"
      ],
      "execution_count": null,
      "outputs": []
    },
    {
      "cell_type": "code",
      "metadata": {
        "id": "s9ZjigalNCIZ",
        "colab": {
          "base_uri": "https://localhost:8080/"
        },
        "outputId": "69220177-4636-41ab-d919-78b661002440"
      },
      "source": [
        "df.columns"
      ],
      "execution_count": null,
      "outputs": [
        {
          "output_type": "execute_result",
          "data": {
            "text/plain": [
              "Index(['Dst Port', 'Protocol', 'Timestamp', 'Flow Duration', 'Tot Fwd Pkts',\n",
              "       'Tot Bwd Pkts', 'TotLen Fwd Pkts', 'TotLen Bwd Pkts', 'Fwd Pkt Len Max',\n",
              "       'Fwd Pkt Len Min', 'Fwd Pkt Len Mean', 'Fwd Pkt Len Std',\n",
              "       'Bwd Pkt Len Max', 'Bwd Pkt Len Min', 'Bwd Pkt Len Mean',\n",
              "       'Bwd Pkt Len Std', 'Flow Byts/s', 'Flow Pkts/s', 'Flow IAT Mean',\n",
              "       'Flow IAT Std', 'Flow IAT Max', 'Flow IAT Min', 'Fwd IAT Tot',\n",
              "       'Fwd IAT Mean', 'Fwd IAT Std', 'Fwd IAT Max', 'Fwd IAT Min',\n",
              "       'Bwd IAT Tot', 'Bwd IAT Mean', 'Bwd IAT Std', 'Bwd IAT Max',\n",
              "       'Bwd IAT Min', 'Fwd PSH Flags', 'Bwd PSH Flags', 'Fwd URG Flags',\n",
              "       'Bwd URG Flags', 'Fwd Header Len', 'Bwd Header Len', 'Fwd Pkts/s',\n",
              "       'Bwd Pkts/s', 'Pkt Len Min', 'Pkt Len Max', 'Pkt Len Mean',\n",
              "       'Pkt Len Std', 'Pkt Len Var', 'FIN Flag Cnt', 'SYN Flag Cnt',\n",
              "       'RST Flag Cnt', 'PSH Flag Cnt', 'ACK Flag Cnt', 'URG Flag Cnt',\n",
              "       'CWE Flag Count', 'ECE Flag Cnt', 'Down/Up Ratio', 'Pkt Size Avg',\n",
              "       'Fwd Seg Size Avg', 'Bwd Seg Size Avg', 'Fwd Byts/b Avg',\n",
              "       'Fwd Pkts/b Avg', 'Fwd Blk Rate Avg', 'Bwd Byts/b Avg',\n",
              "       'Bwd Pkts/b Avg', 'Bwd Blk Rate Avg', 'Subflow Fwd Pkts',\n",
              "       'Subflow Fwd Byts', 'Subflow Bwd Pkts', 'Subflow Bwd Byts',\n",
              "       'Init Fwd Win Byts', 'Init Bwd Win Byts', 'Fwd Act Data Pkts',\n",
              "       'Fwd Seg Size Min', 'Active Mean', 'Active Std', 'Active Max',\n",
              "       'Active Min', 'Idle Mean', 'Idle Std', 'Idle Max', 'Idle Min', 'Label'],\n",
              "      dtype='object')"
            ]
          },
          "metadata": {
            "tags": []
          },
          "execution_count": 9
        }
      ]
    },
    {
      "cell_type": "markdown",
      "metadata": {
        "id": "yGdYt-UEvj2J"
      },
      "source": [
        "## **FFNN**"
      ]
    },
    {
      "cell_type": "markdown",
      "metadata": {
        "id": "_lhN6l71KkhQ"
      },
      "source": [
        "**Binary Class**"
      ]
    },
    {
      "cell_type": "code",
      "metadata": {
        "id": "TZXxDViHNFt7"
      },
      "source": [
        "features = ['Flow Duration', 'Tot Fwd Pkts',\n",
        "       'Tot Bwd Pkts', 'TotLen Fwd Pkts', 'TotLen Bwd Pkts', 'Fwd Pkt Len Max',\n",
        "       'Fwd Pkt Len Min', 'Fwd Pkt Len Mean', 'Fwd Pkt Len Std',\n",
        "       'Bwd Pkt Len Max', 'Bwd Pkt Len Min', 'Bwd Pkt Len Mean',\n",
        "       'Bwd Pkt Len Std', 'Flow Byts/s', 'Flow Pkts/s', 'Flow IAT Mean',\n",
        "       'Flow IAT Std', 'Flow IAT Max', 'Flow IAT Min', 'Fwd IAT Tot',\n",
        "       'Fwd IAT Mean', 'Fwd IAT Std', 'Fwd IAT Max', 'Fwd IAT Min',\n",
        "       'Bwd IAT Tot', 'Bwd IAT Mean', 'Bwd IAT Std', 'Bwd IAT Max',\n",
        "       'Bwd IAT Min', 'Fwd PSH Flags', 'Bwd PSH Flags', 'Fwd URG Flags',\n",
        "       'Bwd URG Flags', 'Fwd Header Len', 'Bwd Header Len', 'Fwd Pkts/s',\n",
        "       'Bwd Pkts/s', 'Pkt Len Min', 'Pkt Len Max', 'Pkt Len Mean',\n",
        "       'Pkt Len Std', 'Pkt Len Var', 'FIN Flag Cnt', 'SYN Flag Cnt',\n",
        "       'RST Flag Cnt', 'PSH Flag Cnt', 'ACK Flag Cnt', 'URG Flag Cnt',\n",
        "       'CWE Flag Count', 'ECE Flag Cnt', 'Down/Up Ratio', 'Pkt Size Avg',\n",
        "       'Fwd Seg Size Avg', 'Bwd Seg Size Avg', 'Fwd Byts/b Avg',\n",
        "       'Fwd Pkts/b Avg', 'Fwd Blk Rate Avg', 'Bwd Byts/b Avg',\n",
        "       'Bwd Pkts/b Avg', 'Bwd Blk Rate Avg', 'Subflow Fwd Pkts',\n",
        "       'Subflow Fwd Byts', 'Subflow Bwd Pkts', 'Subflow Bwd Byts',\n",
        "       'Init Fwd Win Byts', 'Init Bwd Win Byts', 'Fwd Act Data Pkts',\n",
        "       'Fwd Seg Size Min', 'Active Mean', 'Active Std', 'Active Max',\n",
        "       'Active Min', 'Idle Mean', 'Idle Std', 'Idle Max', 'Idle Min']"
      ],
      "execution_count": 27,
      "outputs": []
    },
    {
      "cell_type": "code",
      "metadata": {
        "id": "17a7f5rWNNXZ"
      },
      "source": [
        "def targetify(s):\n",
        "    if s == 'Benign':\n",
        "        return 0\n",
        "    else:\n",
        "        return 1"
      ],
      "execution_count": 28,
      "outputs": []
    },
    {
      "cell_type": "code",
      "metadata": {
        "id": "ALq0oAMFNE3x",
        "colab": {
          "base_uri": "https://localhost:8080/"
        },
        "outputId": "f8c4243c-ae9c-4764-f8a1-e45a5059b7d9"
      },
      "source": [
        "X = df[features]\n",
        "X[features] = X[features].apply(pd.to_numeric, errors='coerce', axis=1)\n",
        "X = X.fillna(0)\n",
        "labels = df['Label']    #For multiclass classification\n",
        "df['Target']=df['Label'].apply(targetify)\n",
        "y = df['Target']"
      ],
      "execution_count": 29,
      "outputs": [
        {
          "output_type": "stream",
          "text": [
            "/usr/local/lib/python3.7/dist-packages/pandas/core/frame.py:3069: SettingWithCopyWarning: \n",
            "A value is trying to be set on a copy of a slice from a DataFrame.\n",
            "Try using .loc[row_indexer,col_indexer] = value instead\n",
            "\n",
            "See the caveats in the documentation: https://pandas.pydata.org/pandas-docs/stable/user_guide/indexing.html#returning-a-view-versus-a-copy\n",
            "  self[k1] = value[k2]\n"
          ],
          "name": "stderr"
        }
      ]
    },
    {
      "cell_type": "code",
      "metadata": {
        "id": "8nWwSwSoNExM"
      },
      "source": [
        "min_max_scaler = preprocessing.MinMaxScaler()\n",
        "x_scaled = min_max_scaler.fit_transform(X.values)\n",
        "X = pd.DataFrame(x_scaled,columns=features)"
      ],
      "execution_count": 30,
      "outputs": []
    },
    {
      "cell_type": "code",
      "metadata": {
        "id": "GG4_M7ObNbKH",
        "colab": {
          "base_uri": "https://localhost:8080/"
        },
        "outputId": "c7939c57-0235-4c39-ae93-b9bd0c7794b8"
      },
      "source": [
        "X_train, X_test, y_train, y_test = train_test_split(X, y, test_size=0.2)\n",
        "print (X_train.shape, y_train.shape)\n",
        "print( X_test.shape, y_test.shape)"
      ],
      "execution_count": 31,
      "outputs": [
        {
          "output_type": "stream",
          "text": [
            "(838859, 76) (838859,)\n",
            "(209715, 76) (209715,)\n"
          ],
          "name": "stdout"
        }
      ]
    },
    {
      "cell_type": "code",
      "metadata": {
        "id": "maEm0IWENq_f"
      },
      "source": [
        "model = tf.keras.models.Sequential([\n",
        "    tf.keras.layers.Dense(128, activation='relu'),\n",
        "    tf.keras.layers.Dropout(0.2),\n",
        "    tf.keras.layers.Dense(64, activation='relu'),\n",
        "    tf.keras.layers.Dropout(0.4),\n",
        "    tf.keras.layers.Dense(2, activation='softmax')\n",
        "])"
      ],
      "execution_count": 32,
      "outputs": []
    },
    {
      "cell_type": "code",
      "metadata": {
        "id": "3Tdxjo5VNq1U",
        "colab": {
          "base_uri": "https://localhost:8080/"
        },
        "outputId": "88a2952d-b416-480c-ee41-e3ebc8f02553"
      },
      "source": [
        "model.compile(optimizer='adam', loss='sparse_categorical_crossentropy', metrics=['accuracy'])\n",
        "model.fit(X_train.values, y_train.values, epochs=5)\n",
        "model.save('drive/MyDrive/IDS-2018/FFNN_BC')"
      ],
      "execution_count": 33,
      "outputs": [
        {
          "output_type": "stream",
          "text": [
            "Epoch 1/5\n",
            "26215/26215 [==============================] - 44s 2ms/step - loss: 0.0202 - accuracy: 0.9963\n",
            "Epoch 2/5\n",
            "26215/26215 [==============================] - 44s 2ms/step - loss: 0.0118 - accuracy: 0.9983\n",
            "Epoch 3/5\n",
            "26215/26215 [==============================] - 44s 2ms/step - loss: 0.0118 - accuracy: 0.9982\n",
            "Epoch 4/5\n",
            "26215/26215 [==============================] - 44s 2ms/step - loss: 0.0114 - accuracy: 0.9983\n",
            "Epoch 5/5\n",
            "26215/26215 [==============================] - 46s 2ms/step - loss: 0.0115 - accuracy: 0.9982\n",
            "INFO:tensorflow:Assets written to: drive/MyDrive/IDS-2018/FFNN_BC/assets\n"
          ],
          "name": "stdout"
        }
      ]
    },
    {
      "cell_type": "code",
      "metadata": {
        "id": "i8qkqLZfNqou",
        "colab": {
          "base_uri": "https://localhost:8080/"
        },
        "outputId": "37633c19-89a6-4c69-f5ab-c6f5417e2f83"
      },
      "source": [
        "predictions = model.predict(X_test.values)[:,1]\n",
        "predictions = [int(round(x)) for x in predictions]\n",
        "np.sum(predictions == y_test.values) / len(y_test.values)"
      ],
      "execution_count": 34,
      "outputs": [
        {
          "output_type": "execute_result",
          "data": {
            "text/plain": [
              "0.9982881529695062"
            ]
          },
          "metadata": {
            "tags": []
          },
          "execution_count": 34
        }
      ]
    },
    {
      "cell_type": "code",
      "metadata": {
        "colab": {
          "base_uri": "https://localhost:8080/"
        },
        "id": "Eg8wI42LHPPV",
        "outputId": "57e59c32-77f3-4604-c70b-82a49d632706"
      },
      "source": [
        "confMat = confusion_matrix(y_test.values, predictions)\n",
        "confMat"
      ],
      "execution_count": 35,
      "outputs": [
        {
          "output_type": "execute_result",
          "data": {
            "text/plain": [
              "array([[ 89011,    359],\n",
              "       [     0, 120345]])"
            ]
          },
          "metadata": {
            "tags": []
          },
          "execution_count": 35
        }
      ]
    },
    {
      "cell_type": "code",
      "metadata": {
        "id": "HxGIS0PHUv04"
      },
      "source": [
        "precision_score(y_test, predictions)"
      ],
      "execution_count": null,
      "outputs": []
    },
    {
      "cell_type": "code",
      "metadata": {
        "id": "FUqP8hetU3ym"
      },
      "source": [
        "metrics.recall_score(y_test.values, predictions)"
      ],
      "execution_count": null,
      "outputs": []
    },
    {
      "cell_type": "code",
      "metadata": {
        "id": "mU5wAR5r6c-J",
        "outputId": "f376af5b-f3ae-4575-fac0-be9b3ffb3eb1",
        "colab": {
          "base_uri": "https://localhost:8080/",
          "height": 282
        }
      },
      "source": [
        "cf_matrix = confusion_matrix(y_test.values, predictions)\n",
        "sn.heatmap(cf_matrix / np.sum(cf_matrix), annot=True, fmt='.2%', cmap='Blues')"
      ],
      "execution_count": 36,
      "outputs": [
        {
          "output_type": "execute_result",
          "data": {
            "text/plain": [
              "<matplotlib.axes._subplots.AxesSubplot at 0x7f4e91f653d0>"
            ]
          },
          "metadata": {
            "tags": []
          },
          "execution_count": 36
        },
        {
          "output_type": "display_data",
          "data": {
            "image/png": "[encoded data removed]",
            "text/plain": [
              "<Figure size 432x288 with 2 Axes>"
            ]
          },
          "metadata": {
            "tags": [],
            "needs_background": "light"
          }
        }
      ]
    },
    {
      "cell_type": "markdown",
      "metadata": {
        "id": "SnS1tL8eQMGp"
      },
      "source": [
        "**Multicalss**"
      ]
    },
    {
      "cell_type": "code",
      "metadata": {
        "id": "V_Pe0g0YUVbY"
      },
      "source": [
        "categories = ['Benign', 'FTP-BruteForce', 'SSH-Bruteforce',\n",
        "              'DoS attacks-GoldenEye', 'DoS attacks-Slowloris', 'DoS attacks-SlowHTTPTest',\n",
        "              'DoS attacks-Hulk', 'Brute Force -Web', 'Brute Force -XSS',\n",
        "              'SQL Injection', 'Infiltration', 'Bot']"
      ],
      "execution_count": 37,
      "outputs": []
    },
    {
      "cell_type": "code",
      "metadata": {
        "id": "K1uUFkSq0ZEv"
      },
      "source": [
        "labels = df['Label']"
      ],
      "execution_count": 38,
      "outputs": []
    },
    {
      "cell_type": "code",
      "metadata": {
        "id": "VcKnKgcmT7x2"
      },
      "source": [
        "encoder = LabelEncoder()\n",
        "encoder.fit(categories)\n",
        "y = encoder.transform(labels)\n",
        "y = np_utils.to_categorical(y, num_classes=12)"
      ],
      "execution_count": 39,
      "outputs": []
    },
    {
      "cell_type": "code",
      "metadata": {
        "id": "ZXWj5nY5HRkC",
        "outputId": "03c3de8c-f40b-406c-9b9d-054b9a9733d9",
        "colab": {
          "base_uri": "https://localhost:8080/"
        }
      },
      "source": [
        "y.shape"
      ],
      "execution_count": 40,
      "outputs": [
        {
          "output_type": "execute_result",
          "data": {
            "text/plain": [
              "(1048574, 12)"
            ]
          },
          "metadata": {
            "tags": []
          },
          "execution_count": 40
        }
      ]
    },
    {
      "cell_type": "code",
      "metadata": {
        "id": "rkGTxRFQIRRI",
        "outputId": "036664c4-6d13-4dfb-f1fd-34559f50808a",
        "colab": {
          "base_uri": "https://localhost:8080/"
        }
      },
      "source": [
        "X_train, X_test, y_train, y_test = train_test_split(X, y, test_size=0.2)\n",
        "print (X_train.shape, y_train.shape)\n",
        "print( X_test.shape, y_test.shape)"
      ],
      "execution_count": 41,
      "outputs": [
        {
          "output_type": "stream",
          "text": [
            "(838859, 76) (838859, 12)\n",
            "(209715, 76) (209715, 12)\n"
          ],
          "name": "stdout"
        }
      ]
    },
    {
      "cell_type": "code",
      "metadata": {
        "id": "0bvqaOJyxFLP"
      },
      "source": [
        "model = tf.keras.models.Sequential([\n",
        "    tf.keras.layers.Dense(128, activation='relu'),\n",
        "    tf.keras.layers.Dropout(0.2),\n",
        "    tf.keras.layers.Dense(64, activation='relu'),\n",
        "    tf.keras.layers.Dropout(0.4),\n",
        "    tf.keras.layers.Dense(12, activation='softmax')\n",
        "])"
      ],
      "execution_count": 42,
      "outputs": []
    },
    {
      "cell_type": "code",
      "metadata": {
        "id": "P3HeMf-SxH2s",
        "colab": {
          "base_uri": "https://localhost:8080/"
        },
        "outputId": "3bd56e74-a3f5-4050-8691-bce4feeec514"
      },
      "source": [
        "model.compile(optimizer='adam', loss='categorical_crossentropy', metrics=['accuracy'])\n",
        "model.fit(X_train, y_train, epochs=5)\n",
        "model.save('drive/MyDrive/IDS-2018/FFNN_MC')"
      ],
      "execution_count": 43,
      "outputs": [
        {
          "output_type": "stream",
          "text": [
            "Epoch 1/5\n",
            "26215/26215 [==============================] - 47s 2ms/step - loss: 0.0403 - accuracy: 0.9924\n",
            "Epoch 2/5\n",
            "26215/26215 [==============================] - 46s 2ms/step - loss: 0.0115 - accuracy: 0.9983\n",
            "Epoch 3/5\n",
            "26215/26215 [==============================] - 44s 2ms/step - loss: 0.0115 - accuracy: 0.9983\n",
            "Epoch 4/5\n",
            "26215/26215 [==============================] - 58s 2ms/step - loss: 0.0108 - accuracy: 0.9984\n",
            "Epoch 5/5\n",
            "26215/26215 [==============================] - 45s 2ms/step - loss: 0.0112 - accuracy: 0.9983\n",
            "INFO:tensorflow:Assets written to: drive/MyDrive/IDS-2018/FFNN_MC/assets\n"
          ],
          "name": "stdout"
        }
      ]
    },
    {
      "cell_type": "code",
      "metadata": {
        "id": "njwo7PmSxNcW"
      },
      "source": [
        "predictions = model.predict(X_test.values)[:,:1]\n",
        "predictions = predictions.argmax(axis=1)\n",
        "y_test = y_test.argmax(axis=1)"
      ],
      "execution_count": 44,
      "outputs": []
    },
    {
      "cell_type": "code",
      "metadata": {
        "id": "IjJTIqmmPbMR",
        "outputId": "168095b6-e81c-49ce-e388-4cb208765487",
        "colab": {
          "base_uri": "https://localhost:8080/"
        }
      },
      "source": [
        "predictions.shape\n",
        "y_test.shape"
      ],
      "execution_count": 50,
      "outputs": [
        {
          "output_type": "execute_result",
          "data": {
            "text/plain": [
              "(209715,)"
            ]
          },
          "metadata": {
            "tags": []
          },
          "execution_count": 50
        }
      ]
    },
    {
      "cell_type": "code",
      "metadata": {
        "id": "jaxlBVw8MBhn",
        "outputId": "7eff28aa-7e21-43b0-9fd7-937cfe653d1c",
        "colab": {
          "base_uri": "https://localhost:8080/"
        }
      },
      "source": [
        "np.sum(predictions == y_test) / len(y_test)"
      ],
      "execution_count": 46,
      "outputs": [
        {
          "output_type": "execute_result",
          "data": {
            "text/plain": [
              "0.42700331402141"
            ]
          },
          "metadata": {
            "tags": []
          },
          "execution_count": 46
        }
      ]
    },
    {
      "cell_type": "code",
      "metadata": {
        "id": "9oQAaNYgxP5A",
        "colab": {
          "base_uri": "https://localhost:8080/"
        },
        "outputId": "eb8a8a4d-15c5-444c-9107-bddb7e23e5ce"
      },
      "source": [
        "confMat = confusion_matrix(y_test, predictions)\n",
        "confMat"
      ],
      "execution_count": 47,
      "outputs": [
        {
          "output_type": "execute_result",
          "data": {
            "text/plain": [
              "array([[89549,     0,     0],\n",
              "       [92252,     0,     0],\n",
              "       [27914,     0,     0]])"
            ]
          },
          "metadata": {
            "tags": []
          },
          "execution_count": 47
        }
      ]
    },
    {
      "cell_type": "code",
      "metadata": {
        "id": "KKlZORPDWv5y",
        "outputId": "31ad55e9-6c66-4d04-cf4f-f207e4dff736",
        "colab": {
          "base_uri": "https://localhost:8080/"
        }
      },
      "source": [
        "precision_score(y_test, predictions, average='weighted')"
      ],
      "execution_count": 59,
      "outputs": [
        {
          "output_type": "stream",
          "text": [
            "/usr/local/lib/python3.7/dist-packages/sklearn/metrics/_classification.py:1272: UndefinedMetricWarning: Precision is ill-defined and being set to 0.0 in labels with no predicted samples. Use `zero_division` parameter to control this behavior.\n",
            "  _warn_prf(average, modifier, msg_start, len(result))\n"
          ],
          "name": "stderr"
        },
        {
          "output_type": "execute_result",
          "data": {
            "text/plain": [
              "0.18233183018526689"
            ]
          },
          "metadata": {
            "tags": []
          },
          "execution_count": 59
        }
      ]
    },
    {
      "cell_type": "code",
      "metadata": {
        "id": "J_4fMPJTXAto",
        "outputId": "92bf579c-ae01-415f-8c11-fd5071e3b1a9",
        "colab": {
          "base_uri": "https://localhost:8080/"
        }
      },
      "source": [
        "recall_score(y_test, predictions, average='weighted')"
      ],
      "execution_count": 60,
      "outputs": [
        {
          "output_type": "execute_result",
          "data": {
            "text/plain": [
              "0.42700331402141"
            ]
          },
          "metadata": {
            "tags": []
          },
          "execution_count": 60
        }
      ]
    },
    {
      "cell_type": "code",
      "metadata": {
        "id": "21H96b-dQ1m2",
        "outputId": "04e3d858-f378-4d60-dad3-19292cfe36e0",
        "colab": {
          "base_uri": "https://localhost:8080/",
          "height": 282
        }
      },
      "source": [
        "cf_matrix = confusion_matrix(y_test, predictions)\n",
        "sn.heatmap(cf_matrix / np.sum(cf_matrix), annot=True, fmt='.2%', cmap='Blues')"
      ],
      "execution_count": 51,
      "outputs": [
        {
          "output_type": "execute_result",
          "data": {
            "text/plain": [
              "<matplotlib.axes._subplots.AxesSubplot at 0x7f4e8cc28b10>"
            ]
          },
          "metadata": {
            "tags": []
          },
          "execution_count": 51
        },
        {
          "output_type": "display_data",
          "data": {
            "image/png": "[encoded data removed]",
            "text/plain": [
              "<Figure size 432x288 with 2 Axes>"
            ]
          },
          "metadata": {
            "tags": [],
            "needs_background": "light"
          }
        }
      ]
    },
    {
      "cell_type": "code",
      "metadata": {
        "id": "DDuQqo47-ABP"
      },
      "source": [
        ""
      ],
      "execution_count": null,
      "outputs": []
    },
    {
      "cell_type": "code",
      "metadata": {
        "id": "5WoxcdTi-AdC"
      },
      "source": [
        "! pip3 install keras\n",
        "! pip3 install ann_visualizer\n",
        "! pip install graphviz\n",
        "! pip install h5py"
      ],
      "execution_count": null,
      "outputs": []
    },
    {
      "cell_type": "code",
      "metadata": {
        "id": "GTWJZBBm2rUP"
      },
      "source": [
        "from ann_visualizer.visualize import ann_viz;\n",
        "ann_viz(model, title=\"Artificial Neural network - Model Visualization\")"
      ],
      "execution_count": null,
      "outputs": []
    },
    {
      "cell_type": "code",
      "metadata": {
        "id": "RaPSKJxr2-rO"
      },
      "source": [
        "visualizer(model, format='png', view=True)"
      ],
      "execution_count": null,
      "outputs": []
    }
  ]
}