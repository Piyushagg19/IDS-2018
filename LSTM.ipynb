{
  "nbformat": 4,
  "nbformat_minor": 0,
  "metadata": {
    "colab": {
      "name": "LSTM.ipynb",
      "provenance": [],
      "collapsed_sections": [
        "oEBYbD0jw2PI",
        "DER9DuHSa5hH"
      ],
      "include_colab_link": true
    },
    "kernelspec": {
      "name": "python3",
      "display_name": "Python 3"
    },
    "language_info": {
      "name": "python"
    }
  },
  "cells": [
    {
      "cell_type": "markdown",
      "metadata": {
        "id": "view-in-github",
        "colab_type": "text"
      },
      "source": [
        "<a href=\"https://colab.research.google.com/github/Piyushagg19/IDS-2018/blob/main/LSTM.ipynb\" target=\"_parent\"><img src=\"https://colab.research.google.com/assets/colab-badge.svg\" alt=\"Open In Colab\"/></a>"
      ]
    },
    {
      "cell_type": "markdown",
      "metadata": {
        "id": "oEBYbD0jw2PI"
      },
      "source": [
        "## **IDS**"
      ]
    },
    {
      "cell_type": "code",
      "metadata": {
        "id": "NLezzTSoMcI8"
      },
      "source": [
        "import tensorflow as tf\n",
        "import pandas as pd\n",
        "import numpy as np\n",
        "import sklearn\n",
        "from keras.models import Sequential, load_model\n",
        "from sklearn.model_selection import train_test_split\n",
        "from sklearn.linear_model import LogisticRegression\n",
        "from sklearn import preprocessing\n",
        "from sklearn.preprocessing import LabelEncoder, StandardScaler\n",
        "from sklearn.metrics import confusion_matrix\n",
        "from keras.utils import np_utils"
      ],
      "execution_count": 45,
      "outputs": []
    },
    {
      "cell_type": "code",
      "metadata": {
        "colab": {
          "base_uri": "https://localhost:8080/"
        },
        "id": "9TWNodDe1kHu",
        "outputId": "da47773f-6e28-4bd2-bb2b-1c0a95ce50be"
      },
      "source": [
        "from google.colab import drive\n",
        "drive.mount('/content/drive')"
      ],
      "execution_count": 46,
      "outputs": [
        {
          "output_type": "stream",
          "text": [
            "Drive already mounted at /content/drive; to attempt to forcibly remount, call drive.mount(\"/content/drive\", force_remount=True).\n"
          ],
          "name": "stdout"
        }
      ]
    },
    {
      "cell_type": "code",
      "metadata": {
        "id": "KzFzH3CAMmxQ",
        "colab": {
          "base_uri": "https://localhost:8080/"
        },
        "outputId": "c050a76a-5284-46ea-8b33-415f04597ee3"
      },
      "source": [
        "df = pd.read_csv('/content/drive/My Drive/IDS-2018/02-16-2018.csv')\n",
        "df.drop(df.loc[df['Label'] == 'Label'].index, inplace=True)"
      ],
      "execution_count": 47,
      "outputs": [
        {
          "output_type": "stream",
          "text": [
            "/usr/local/lib/python3.7/dist-packages/IPython/core/interactiveshell.py:2718: DtypeWarning: Columns (0,1,3,4,5,6,7,8,9,10,11,12,13,14,15,16,17,18,19,20,21,22,23,24,25,26,27,28,29,30,31,32,33,34,35,36,37,38,39,40,41,42,43,44,45,46,47,48,49,50,51,52,53,54,55,56,57,58,59,60,61,62,63,64,65,66,67,68,69,70,71,72,73,74,75,76,77,78) have mixed types.Specify dtype option on import or set low_memory=False.\n",
            "  interactivity=interactivity, compiler=compiler, result=result)\n"
          ],
          "name": "stderr"
        }
      ]
    },
    {
      "cell_type": "code",
      "metadata": {
        "id": "HixtSvMpM_Fq"
      },
      "source": [
        "metadata = ['fl_dur' #Flow duration\n",
        ",'tot_fw_pk' #Total packets in the forward direction\n",
        ",'tot_bw_pk' #Total packets in the backward direction\n",
        ",'tot_l_fw_pkt' #Total size of packet in forward direction\n",
        ",'fw_pkt_l_max' #Maximum size of packet in forward direction\n",
        ",'fw_pkt_l_min' #Minimum size of packet in forward direction\n",
        ",'fw_pkt_l_avg' #Average size of packet in forward direction\n",
        ",'fw_pkt_l_std' #Standard deviation size of packet in forward direction\n",
        ",'Bw_pkt_l_max' #Maximum size of packet in backward direction\n",
        ",'Bw_pkt_l_min' #Minimum size of packet in backward direction\n",
        ",'Bw_pkt_l_avg' #Mean size of packet in backward direction\n",
        ",'Bw_pkt_l_std' #Standard deviation size of packet in backward direction\n",
        ",'fl_byt_s' #flow byte rate that is number of packets transferred per second\n",
        ",'fl_pkt_s' #flow packets rate that is number of packets transferred per second\n",
        ",'fl_iat_avg' #Average time between two flows\n",
        ",'fl_iat_std' #Standard deviation time two flows\n",
        ",'fl_iat_max' #Maximum time between two flows\n",
        ",'fl_iat_min' #Minimum time between two flows\n",
        ",'fw_iat_tot' #Total time between two packets sent in the forward direction\n",
        ",'fw_iat_avg' #Mean time between two packets sent in the forward direction\n",
        ",'fw_iat_std' #Standard deviation time between two packets sent in the forward direction\n",
        ",'fw_iat_max' #Maximum time between two packets sent in the forward direction\n",
        ",'fw_iat_min' #Minimum time between two packets sent in the forward direction\n",
        ",'bw_iat_tot' #Total time between two packets sent in the backward direction\n",
        ",'bw_iat_avg' #Mean time between two packets sent in the backward direction\n",
        ",'bw_iat_std' #Standard deviation time between two packets sent in the backward direction\n",
        ",'bw_iat_max' #Maximum time between two packets sent in the backward direction\n",
        ",'bw_iat_min' #Minimum time between two packets sent in the backward direction\n",
        ",'fw_psh_flag' #Number of times the PSH flag was set in packets travelling in the forward direction (0 for UDP)\n",
        ",'bw_psh_flag' #Number of times the PSH flag was set in packets travelling in the backward direction (0 for UDP)\n",
        ",'fw_urg_flag' #Number of times the URG flag was set in packets travelling in the forward direction (0 for UDP)\n",
        ",'bw_urg_flag' #Number of times the URG flag was set in packets travelling in the backward direction (0 for UDP)\n",
        ",'fw_hdr_len' #Total bytes used for headers in the forward direction\n",
        ",'bw_hdr_len' #Total bytes used for headers in the forward direction\n",
        ",'fw_pkt_s' #Number of forward packets per second\n",
        ",'bw_pkt_s' #Number of backward packets per second\n",
        ",'pkt_len_min' #Minimum length of a flow\n",
        ",'pkt_len_max' #Maximum length of a flow\n",
        ",'pkt_len_avg' #Mean length of a flow\n",
        ",'pkt_len_std' #Standard deviation length of a flow\n",
        ",'pkt_len_va' #Minimum inter-arrival time of packet\n",
        ",'fin_cnt' #Number of packets with FIN\n",
        ",'syn_cnt' #Number of packets with SYN\n",
        ",'rst_cnt' #Number of packets with RST\n",
        ",'pst_cnt' #Number of packets with PUSH\n",
        ",'ack_cnt' #Number of packets with ACK\n",
        ",'urg_cnt' #Number of packets with URG\n",
        ",'cwe_cnt' #Number of packets with CWE\n",
        ",'ece_cnt' #Number of packets with ECE\n",
        ",'down_up_ratio' #Download and upload ratio\n",
        ",'pkt_size_avg' #Average size of packet\n",
        ",'fw_seg_avg' #Average size observed in the forward direction\n",
        ",'bw_seg_avg' #Average size observed in the backward direction\n",
        ",'fw_byt_blk_avg' #Average number of bytes bulk rate in the forward direction\n",
        ",'fw_pkt_blk_avg' #Average number of packets bulk rate in the forward direction\n",
        ",'fw_blk_rate_avg' #Average number of bulk rate in the forward direction\n",
        ",'bw_byt_blk_avg' #Average number of bytes bulk rate in the backward direction\n",
        ",'bw_pkt_blk_avg' #Average number of packets bulk rate in the backward direction\n",
        ",'bw_blk_rate_avg' #Average number of bulk rate in the backward direction\n",
        ",'subfl_fw_pk' #The average number of packets in a sub flow in the forward direction\n",
        ",'subfl_fw_byt' #The average number of bytes in a sub flow in the forward direction\n",
        ",'subfl_bw_pkt' #The average number of packets in a sub flow in the backward direction\n",
        ",'subfl_bw_byt' #The average number of bytes in a sub flow in the backward direction\n",
        ",'fw_win_byt' #Number of bytes sent in initial window in the forward direction\n",
        ",'bw_win_byt' ## of bytes sent in initial window in the backward direction\n",
        ",'Fw_act_pkt' ## of packets with at least 1 byte of TCP data payload in the forward direction\n",
        ",'fw_seg_min' #Minimum segment size observed in the forward direction\n",
        ",'atv_avg' #Mean time a flow was active before becoming idle\n",
        ",'atv_std' #Standard deviation time a flow was active before becoming idle\n",
        ",'atv_max' #Maximum time a flow was active before becoming idle\n",
        ",'atv_min' #Minimum time a flow was active before becoming idle\n",
        ",'idl_avg' #Mean time a flow was idle before becoming active\n",
        ",'idl_std' #Standard deviation time a flow was idle before becoming active\n",
        ",'idl_max' #Maximum time a flow was idle before becoming active\n",
        ",'idl_min' #Minimum time a flow was idle before becoming active\n",
        "]"
      ],
      "execution_count": 48,
      "outputs": []
    },
    {
      "cell_type": "code",
      "metadata": {
        "id": "s9ZjigalNCIZ",
        "colab": {
          "base_uri": "https://localhost:8080/"
        },
        "outputId": "fb6845da-68b6-4799-ad2f-0bc26c54ec7e"
      },
      "source": [
        "df.columns"
      ],
      "execution_count": 49,
      "outputs": [
        {
          "output_type": "execute_result",
          "data": {
            "text/plain": [
              "Index(['Dst Port', 'Protocol', 'Timestamp', 'Flow Duration', 'Tot Fwd Pkts',\n",
              "       'Tot Bwd Pkts', 'TotLen Fwd Pkts', 'TotLen Bwd Pkts', 'Fwd Pkt Len Max',\n",
              "       'Fwd Pkt Len Min', 'Fwd Pkt Len Mean', 'Fwd Pkt Len Std',\n",
              "       'Bwd Pkt Len Max', 'Bwd Pkt Len Min', 'Bwd Pkt Len Mean',\n",
              "       'Bwd Pkt Len Std', 'Flow Byts/s', 'Flow Pkts/s', 'Flow IAT Mean',\n",
              "       'Flow IAT Std', 'Flow IAT Max', 'Flow IAT Min', 'Fwd IAT Tot',\n",
              "       'Fwd IAT Mean', 'Fwd IAT Std', 'Fwd IAT Max', 'Fwd IAT Min',\n",
              "       'Bwd IAT Tot', 'Bwd IAT Mean', 'Bwd IAT Std', 'Bwd IAT Max',\n",
              "       'Bwd IAT Min', 'Fwd PSH Flags', 'Bwd PSH Flags', 'Fwd URG Flags',\n",
              "       'Bwd URG Flags', 'Fwd Header Len', 'Bwd Header Len', 'Fwd Pkts/s',\n",
              "       'Bwd Pkts/s', 'Pkt Len Min', 'Pkt Len Max', 'Pkt Len Mean',\n",
              "       'Pkt Len Std', 'Pkt Len Var', 'FIN Flag Cnt', 'SYN Flag Cnt',\n",
              "       'RST Flag Cnt', 'PSH Flag Cnt', 'ACK Flag Cnt', 'URG Flag Cnt',\n",
              "       'CWE Flag Count', 'ECE Flag Cnt', 'Down/Up Ratio', 'Pkt Size Avg',\n",
              "       'Fwd Seg Size Avg', 'Bwd Seg Size Avg', 'Fwd Byts/b Avg',\n",
              "       'Fwd Pkts/b Avg', 'Fwd Blk Rate Avg', 'Bwd Byts/b Avg',\n",
              "       'Bwd Pkts/b Avg', 'Bwd Blk Rate Avg', 'Subflow Fwd Pkts',\n",
              "       'Subflow Fwd Byts', 'Subflow Bwd Pkts', 'Subflow Bwd Byts',\n",
              "       'Init Fwd Win Byts', 'Init Bwd Win Byts', 'Fwd Act Data Pkts',\n",
              "       'Fwd Seg Size Min', 'Active Mean', 'Active Std', 'Active Max',\n",
              "       'Active Min', 'Idle Mean', 'Idle Std', 'Idle Max', 'Idle Min', 'Label'],\n",
              "      dtype='object')"
            ]
          },
          "metadata": {
            "tags": []
          },
          "execution_count": 49
        }
      ]
    },
    {
      "cell_type": "markdown",
      "metadata": {
        "id": "Hi48qgaewUOb"
      },
      "source": [
        "## **LSTM**"
      ]
    },
    {
      "cell_type": "markdown",
      "metadata": {
        "id": "H84qHurZa0Kt"
      },
      "source": [
        "### **Binary Class**"
      ]
    },
    {
      "cell_type": "code",
      "metadata": {
        "id": "xO_0J1yQOAVY"
      },
      "source": [
        "features = ['Timestamp', 'Fwd Pkt Len Std', 'Fwd Pkt Len Mean',\n",
        "       'Fwd Pkt Len Max', 'Fwd Seg Size Avg', 'Pkt Len Std', 'Flow IAT Std',\n",
        "       'Bwd Pkt Len Std', 'Bwd Seg Size Avg', 'Pkt Size Avg',\n",
        "       'Subflow Fwd Byts']"
      ],
      "execution_count": 50,
      "outputs": []
    },
    {
      "cell_type": "code",
      "metadata": {
        "id": "17a7f5rWNNXZ"
      },
      "source": [
        "def targetify(s):\n",
        "    if s == 'Benign':\n",
        "        return 0\n",
        "    else:\n",
        "        return 1"
      ],
      "execution_count": 51,
      "outputs": []
    },
    {
      "cell_type": "code",
      "metadata": {
        "id": "Jyv3ec_KwtFz",
        "colab": {
          "base_uri": "https://localhost:8080/"
        },
        "outputId": "7f42f9f9-ccb1-4739-901e-7a90bae8cc4d"
      },
      "source": [
        "X = df[features]\n",
        "X[features] = X[features].apply(pd.to_numeric, errors='coerce', axis=1)\n",
        "X = X.fillna(0)\n",
        "labels = df['Label']    #For multiclass classification\n"
      ],
      "execution_count": 69,
      "outputs": [
        {
          "output_type": "stream",
          "text": [
            "/usr/local/lib/python3.7/dist-packages/pandas/core/frame.py:3069: SettingWithCopyWarning: \n",
            "A value is trying to be set on a copy of a slice from a DataFrame.\n",
            "Try using .loc[row_indexer,col_indexer] = value instead\n",
            "\n",
            "See the caveats in the documentation: https://pandas.pydata.org/pandas-docs/stable/user_guide/indexing.html#returning-a-view-versus-a-copy\n",
            "  self[k1] = value[k2]\n"
          ],
          "name": "stderr"
        }
      ]
    },
    {
      "cell_type": "code",
      "metadata": {
        "id": "gCbbLe-fsFll"
      },
      "source": [
        "df['Target']=df['Label'].apply(targetify)\n",
        "y = df['Target']"
      ],
      "execution_count": 73,
      "outputs": []
    },
    {
      "cell_type": "markdown",
      "metadata": {
        "id": "ExRZ3yLNyswE"
      },
      "source": [
        "Normal Execution"
      ]
    },
    {
      "cell_type": "code",
      "metadata": {
        "id": "5ZupR410ws7J",
        "colab": {
          "base_uri": "https://localhost:8080/"
        },
        "outputId": "d18f4c83-d959-418e-9519-fc9d18da23e5"
      },
      "source": [
        "X_train, X_test, y_train, y_test = train_test_split(X, y, test_size=0.2)\n",
        "print (X_train.shape, y_train.shape)\n",
        "print( X_test.shape, y_test.shape)"
      ],
      "execution_count": 74,
      "outputs": [
        {
          "output_type": "stream",
          "text": [
            "(838859, 11) (838859,)\n",
            "(209715, 11) (209715,)\n"
          ],
          "name": "stdout"
        }
      ]
    },
    {
      "cell_type": "markdown",
      "metadata": {
        "id": "vpr26iooyw4v"
      },
      "source": [
        "Faster Execution (1% rows)"
      ]
    },
    {
      "cell_type": "code",
      "metadata": {
        "id": "MP40NJBNyKL6",
        "colab": {
          "base_uri": "https://localhost:8080/"
        },
        "outputId": "69b7375a-85cd-4196-94e8-77301031ee00"
      },
      "source": [
        "# selecting 1% of random rows for better running time\n",
        "\n",
        "X_train = X_train.sample(frac=0.1, replace=True, random_state=1)\n",
        "y_train = y_train.sample(frac=0.1, replace=True, random_state=1)\n",
        "X_test = X_test.sample(frac=0.1, replace=True, random_state=1)\n",
        "y_test = y_test.sample(frac=0.1, replace=True, random_state=1)\n",
        "print (X_train.shape, y_train.shape)\n",
        "print( X_test.shape, y_test.shape)"
      ],
      "execution_count": 75,
      "outputs": [
        {
          "output_type": "stream",
          "text": [
            "(83886, 11) (83886,)\n",
            "(20972, 11) (20972,)\n"
          ],
          "name": "stdout"
        }
      ]
    },
    {
      "cell_type": "code",
      "metadata": {
        "id": "h4TWHdVGyQTz"
      },
      "source": [
        "min_max_scaler = preprocessing.MinMaxScaler()\n",
        "x_scaled = min_max_scaler.fit_transform(X_train.values)\n",
        "X_train = pd.DataFrame(x_scaled,columns=features)\n",
        "x_scaled_test = min_max_scaler.fit_transform(X_test.values)\n",
        "X_test = pd.DataFrame(x_scaled_test,columns=features)"
      ],
      "execution_count": 76,
      "outputs": []
    },
    {
      "cell_type": "code",
      "metadata": {
        "id": "Rf2vrS4pwsuh"
      },
      "source": [
        "model = tf.keras.Sequential([\n",
        "    tf.keras.layers.Embedding(100000, 64), # since it doesn't consider \"words,\" the embedding doesn't really matter\n",
        "    tf.keras.layers.Bidirectional(tf.keras.layers.LSTM(64)),\n",
        "    tf.keras.layers.Dense(64, activation='relu'),\n",
        "    tf.keras.layers.Dense(1, activation='sigmoid')\n",
        "    # tf.keras.layers.Dense(1, activation='softmax') # loss too big\n",
        "])"
      ],
      "execution_count": 77,
      "outputs": []
    },
    {
      "cell_type": "code",
      "metadata": {
        "id": "iS-VFQNxwslT",
        "colab": {
          "base_uri": "https://localhost:8080/"
        },
        "outputId": "a9396f74-7ff1-4e4d-9207-924d3506296e"
      },
      "source": [
        "model.compile(loss='binary_crossentropy',\n",
        "              # optimizer='sgd', # almost same\n",
        "              optimizer=tf.keras.optimizers.Adam(1e-4),\n",
        "              metrics=['accuracy'])\n",
        "history = model.fit(X_train.values, y_train.values, epochs=3)\n",
        "model.save('drive/MyDrive/IDS-2018/LSTM_BC')"
      ],
      "execution_count": 78,
      "outputs": [
        {
          "output_type": "stream",
          "text": [
            "Epoch 1/3\n",
            "2622/2622 [==============================] - 204s 77ms/step - loss: 0.2543 - accuracy: 0.8532\n",
            "Epoch 2/3\n",
            "2622/2622 [==============================] - 200s 76ms/step - loss: 0.0254 - accuracy: 0.9958\n",
            "Epoch 3/3\n",
            "2622/2622 [==============================] - 199s 76ms/step - loss: 0.0251 - accuracy: 0.9958\n"
          ],
          "name": "stdout"
        },
        {
          "output_type": "stream",
          "text": [
            "WARNING:absl:Found untraced functions such as lstm_cell_19_layer_call_and_return_conditional_losses, lstm_cell_19_layer_call_fn, lstm_cell_20_layer_call_and_return_conditional_losses, lstm_cell_20_layer_call_fn, lstm_cell_19_layer_call_fn while saving (showing 5 of 10). These functions will not be directly callable after loading.\n",
            "WARNING:absl:Found untraced functions such as lstm_cell_19_layer_call_and_return_conditional_losses, lstm_cell_19_layer_call_fn, lstm_cell_20_layer_call_and_return_conditional_losses, lstm_cell_20_layer_call_fn, lstm_cell_19_layer_call_fn while saving (showing 5 of 10). These functions will not be directly callable after loading.\n"
          ],
          "name": "stderr"
        },
        {
          "output_type": "stream",
          "text": [
            "INFO:tensorflow:Assets written to: drive/MyDrive/IDS-2018/LSTM_BC/assets\n"
          ],
          "name": "stdout"
        },
        {
          "output_type": "stream",
          "text": [
            "INFO:tensorflow:Assets written to: drive/MyDrive/IDS-2018/LSTM_BC/assets\n"
          ],
          "name": "stderr"
        }
      ]
    },
    {
      "cell_type": "code",
      "metadata": {
        "id": "ax68X_PzxEWC",
        "colab": {
          "base_uri": "https://localhost:8080/"
        },
        "outputId": "73d70eaf-6b80-429a-a11d-8f559046bfeb"
      },
      "source": [
        "pred_class = model.predict(X_test.values[:])\n",
        "predictions = [int(round(x[0])) for x in pred_class]\n",
        "true_class = list(y_test)\n",
        "np.sum(predictions == y_test.values) / len(y_test.values)"
      ],
      "execution_count": 79,
      "outputs": [
        {
          "output_type": "stream",
          "text": [
            "[[1.5165239e-06]\n",
            " [5.9952804e-06]\n",
            " [9.9193239e-01]\n",
            " ...\n",
            " [9.9193239e-01]\n",
            " [5.9952804e-06]\n",
            " [5.9952804e-06]]\n"
          ],
          "name": "stdout"
        },
        {
          "output_type": "execute_result",
          "data": {
            "text/plain": [
              "0.9962807552927713"
            ]
          },
          "metadata": {
            "tags": []
          },
          "execution_count": 79
        }
      ]
    },
    {
      "cell_type": "code",
      "metadata": {
        "id": "KufqWIFZxEQ_"
      },
      "source": [
        "def myRound(x, r):\n",
        "    if x>r/float(1000):\n",
        "        return 1\n",
        "    else:\n",
        "        return 0"
      ],
      "execution_count": 80,
      "outputs": []
    },
    {
      "cell_type": "code",
      "metadata": {
        "id": "y-rksHvxxEML"
      },
      "source": [
        "compdf = pd.DataFrame({'pred_class':predictions, 'true_class':true_class})\n",
        "compdf = compdf.sort_values('pred_class', ascending=True)\n",
        "predictions = list(compdf['pred_class'].apply(myRound, r=225))\n",
        "true_class = list(compdf['true_class'])"
      ],
      "execution_count": 81,
      "outputs": []
    },
    {
      "cell_type": "code",
      "metadata": {
        "id": "SRrWsEQUxD20",
        "colab": {
          "base_uri": "https://localhost:8080/"
        },
        "outputId": "1bf9eeb6-5fcd-4d37-8bde-7d7f00cdaba1"
      },
      "source": [
        "confm = confusion_matrix(true_class, predictions)\n",
        "confm"
      ],
      "execution_count": 82,
      "outputs": [
        {
          "output_type": "execute_result",
          "data": {
            "text/plain": [
              "array([[ 9033,    78],\n",
              "       [    0, 11861]])"
            ]
          },
          "metadata": {
            "tags": []
          },
          "execution_count": 82
        }
      ]
    },
    {
      "cell_type": "markdown",
      "metadata": {
        "id": "DER9DuHSa5hH"
      },
      "source": [
        "### **Multi Class**"
      ]
    },
    {
      "cell_type": "code",
      "metadata": {
        "id": "T0bKOdGia9Oa"
      },
      "source": [
        "categories = ['Benign', 'FTP-BruteForce', 'SSH-Bruteforce',\n",
        "              'DoS attacks-GoldenEye', 'DoS attacks-Slowloris', 'DoS attacks-SlowHTTPTest',\n",
        "              'DoS attacks-Hulk', 'Brute Force -Web', 'Brute Force -XSS',\n",
        "              'SQL Injection', 'Infiltration', 'Bot']"
      ],
      "execution_count": 83,
      "outputs": []
    },
    {
      "cell_type": "code",
      "metadata": {
        "id": "9G0WRcoMa-uw"
      },
      "source": [
        "encoder = LabelEncoder()\n",
        "encoder.fit(categories)\n",
        "y = encoder.transform(labels)\n",
        "y = np_utils.to_categorical(y, num_classes=12)"
      ],
      "execution_count": 84,
      "outputs": []
    },
    {
      "cell_type": "code",
      "metadata": {
        "id": "r3kN1kPwbHg7"
      },
      "source": [
        "model = tf.keras.Sequential([\n",
        "    tf.keras.layers.Embedding(100000, 64, embeddings_regularizer='l2'), # since it doesn't consider \"words,\" the embedding doesn't really matter\n",
        "    tf.keras.layers.Bidirectional(tf.keras.layers.LSTM(64)),\n",
        "    tf.keras.layers.Dropout(0.4),\n",
        "    tf.keras.layers.Dense(64, activation='relu', use_bias=True, bias_regularizer='l2'),\n",
        "    tf.keras.layers.Dropout(0.2),\n",
        "    tf.keras.layers.Dense(12, activation='sigmoid')\n",
        "    # tf.keras.layers.Dense(1, activation='softmax') # loss too big\n",
        "])"
      ],
      "execution_count": 111,
      "outputs": []
    },
    {
      "cell_type": "code",
      "metadata": {
        "id": "dAWdPRbXolXO",
        "colab": {
          "base_uri": "https://localhost:8080/"
        },
        "outputId": "21a145b7-82f1-4ee7-a754-bec0d11497ca"
      },
      "source": [
        "X_train.shape, y_train.shape"
      ],
      "execution_count": 93,
      "outputs": [
        {
          "output_type": "execute_result",
          "data": {
            "text/plain": [
              "((83886, 11), (83886,))"
            ]
          },
          "metadata": {
            "tags": []
          },
          "execution_count": 93
        }
      ]
    },
    {
      "cell_type": "code",
      "metadata": {
        "id": "qw5yKr6-bQe6",
        "colab": {
          "base_uri": "https://localhost:8080/"
        },
        "outputId": "49cbd463-c262-47fb-846a-c391f4930bcd"
      },
      "source": [
        "model.compile(loss='sparse_categorical_crossentropy',\n",
        "              # optimizer='sgd', # almost same\n",
        "              optimizer=tf.keras.optimizers.Adam(1e-4),\n",
        "              metrics=['accuracy'])\n",
        "history = model.fit(X_train.values, y_train.values, epochs=3)\n",
        "model.save('drive/MyDrive/IDS-2018/LSTM_MC_L2')"
      ],
      "execution_count": 104,
      "outputs": [
        {
          "output_type": "stream",
          "text": [
            "Epoch 1/3\n",
            "2622/2622 [==============================] - 199s 74ms/step - loss: 0.7342 - accuracy: 0.7379\n",
            "Epoch 2/3\n",
            "2622/2622 [==============================] - 194s 74ms/step - loss: 0.0318 - accuracy: 0.9956\n",
            "Epoch 3/3\n",
            "2622/2622 [==============================] - 195s 74ms/step - loss: 0.0302 - accuracy: 0.9953\n"
          ],
          "name": "stdout"
        },
        {
          "output_type": "stream",
          "text": [
            "WARNING:absl:Found untraced functions such as lstm_cell_31_layer_call_and_return_conditional_losses, lstm_cell_31_layer_call_fn, lstm_cell_32_layer_call_and_return_conditional_losses, lstm_cell_32_layer_call_fn, lstm_cell_31_layer_call_fn while saving (showing 5 of 10). These functions will not be directly callable after loading.\n",
            "WARNING:absl:Found untraced functions such as lstm_cell_31_layer_call_and_return_conditional_losses, lstm_cell_31_layer_call_fn, lstm_cell_32_layer_call_and_return_conditional_losses, lstm_cell_32_layer_call_fn, lstm_cell_31_layer_call_fn while saving (showing 5 of 10). These functions will not be directly callable after loading.\n"
          ],
          "name": "stderr"
        },
        {
          "output_type": "stream",
          "text": [
            "INFO:tensorflow:Assets written to: drive/MyDrive/IDS-2018/LSTM_MC_L2/assets\n"
          ],
          "name": "stdout"
        },
        {
          "output_type": "stream",
          "text": [
            "INFO:tensorflow:Assets written to: drive/MyDrive/IDS-2018/LSTM_MC_L2/assets\n"
          ],
          "name": "stderr"
        }
      ]
    },
    {
      "cell_type": "code",
      "metadata": {
        "id": "Y2HCh4UhbheN",
        "colab": {
          "base_uri": "https://localhost:8080/"
        },
        "outputId": "0faae0b4-7b01-4339-ee5c-3c1138b764ab"
      },
      "source": [
        "pred_class = model.predict(X_test.values[:])\n",
        "predictions = [int(round(x[0])) for x in pred_class]\n",
        "true_class = list(y_test)\n",
        "np.sum(predictions == y_test.values) / len(y_test.values)"
      ],
      "execution_count": 105,
      "outputs": [
        {
          "output_type": "execute_result",
          "data": {
            "text/plain": [
              "0.5655636086210185"
            ]
          },
          "metadata": {
            "tags": []
          },
          "execution_count": 105
        }
      ]
    },
    {
      "cell_type": "code",
      "metadata": {
        "id": "4S6potN6buR9"
      },
      "source": [
        "compdf = pd.DataFrame({'pred_class':predictions, 'true_class':true_class})\n",
        "compdf = compdf.sort_values('pred_class', ascending=True)\n",
        "predictions = list(compdf['pred_class'].apply(myRound, r=225))\n",
        "true_class = list(compdf['true_class'])"
      ],
      "execution_count": 106,
      "outputs": []
    },
    {
      "cell_type": "code",
      "metadata": {
        "id": "WTq1Vkoybyl2",
        "colab": {
          "base_uri": "https://localhost:8080/"
        },
        "outputId": "de8b04ed-6770-4922-c9fa-989847cc6cf3"
      },
      "source": [
        "confm = confusion_matrix(true_class, predictions)\n",
        "confm"
      ],
      "execution_count": 102,
      "outputs": [
        {
          "output_type": "execute_result",
          "data": {
            "text/plain": [
              "array([[   78,  9033],\n",
              "       [11852,     9]])"
            ]
          },
          "metadata": {
            "tags": []
          },
          "execution_count": 102
        }
      ]
    },
    {
      "cell_type": "code",
      "metadata": {
        "colab": {
          "base_uri": "https://localhost:8080/",
          "height": 661
        },
        "id": "7ilu8oBWEoBp",
        "outputId": "ca2d3f4b-788e-4edf-c687-31ab67a974b3"
      },
      "source": [
        "tf.keras.utils.plot_model(model, to_file='model.png', show_shapes=False, show_layer_names=False)"
      ],
      "execution_count": 114,
      "outputs": [
        {
          "output_type": "execute_result",
          "data": {
            "image/png": "[encoded data removed]",
            "text/plain": [
              "<IPython.core.display.Image object>"
            ]
          },
          "metadata": {
            "tags": []
          },
          "execution_count": 114
        }
      ]
    },
    {
      "cell_type": "code",
      "metadata": {
        "id": "j4PODlF4E0_d"
      },
      "source": [
        ""
      ],
      "execution_count": null,
      "outputs": []
    }
  ]
}